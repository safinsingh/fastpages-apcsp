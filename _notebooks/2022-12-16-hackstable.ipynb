{
 "cells": [
  {
   "attachments": {},
   "cell_type": "markdown",
   "metadata": {},
   "source": [
    "# Hacks Table\n",
    "\n",
    "- toc: true\n",
    "- badges: true\n",
    "- comments: true\n",
    "- categories: [jupyter]"
   ]
  },
  {
   "attachments": {},
   "cell_type": "markdown",
   "metadata": {},
   "source": [
    "| lesson    | hacks                                                                                         | grades |\n",
    "|-----------|-----------------------------------------------------------------------------------------------|--------|\n",
    "| 3.1/3.2   | [hacks](https://safinsingh.github.io/fastpages-apcsp/jupyter/2022/12/01/31-32-hacks.html)     | 1.0    |\n",
    "| 3.3/3.4   | [hacks](https://safinsingh.github.io/fastpages-apcsp/jupyter/2022/12/01/33-34-hacks.html)     | 1.0    |\n",
    "| 3.5/3.7   | [hacks](https://safinsingh.github.io/fastpages-apcsp/jupyter/2022/12/01/35-37-hacks.html)     | 1.0    |\n",
    "| 3.8/3.10  | [hacks](https://safinsingh.github.io/fastpages-apcsp/jupyter/2022/12/05/38-310-hacks.html)    | 0.9    |\n",
    "| 3.9/3.11  | [hacks](https://safinsingh.github.io/fastpages-apcsp/jupyter/2022/12/06/39-311hacks.html)     | 0.97   |\n",
    "| 3.12/3.13 | [hacks](https://davidvasilev1.github.io/group-tri2/2022/12/04/lesson3.12_3.13.html)           | n/a    |\n",
    "| 3.14/3.15 | [hacks](https://safinsingh.github.io/fastpages-apcsp/jupyter/2022/12/12/31415hacks.html)      | 1.0    |\n",
    "| 3.16      | [hacks](https://safinsingh.github.io/fastpages-apcsp/jupyter/2022/12/13/316hacks.html)        | 1.0    |\n",
    "| 3.17/18   | [hacks](https://safinsingh.github.io/fastpages-apcsp/jupyter/2022/12/14/31718hacks.html)      | 0.96   |"
   ]
  }
 ],
 "metadata": {
  "kernelspec": {
   "display_name": "Python 3",
   "language": "python",
   "name": "python3"
  },
  "language_info": {
   "name": "python",
   "version": "3.9.10 (main, Jan 15 2022, 11:48:04) \n[Clang 13.0.0 (clang-1300.0.29.3)]"
  },
  "orig_nbformat": 4,
  "vscode": {
   "interpreter": {
    "hash": "aee8b7b246df8f9039afb4144a1f6fd8d2ca17a180786b69acc140d282b71a49"
   }
  }
 },
 "nbformat": 4,
 "nbformat_minor": 2
}

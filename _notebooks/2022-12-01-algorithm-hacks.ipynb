{
 "cells": [
  {
   "cell_type": "markdown",
   "metadata": {},
   "source": [
    "# Algorithm Hacks\n",
    "\n",
    "- toc: true\n",
    "- badges: true\n",
    "- comments: true\n",
    "- categories: [jupyter]"
   ]
  },
  {
   "cell_type": "markdown",
   "metadata": {},
   "source": [
    "# Truth Table"
   ]
  },
  {
   "cell_type": "code",
   "execution_count": null,
   "metadata": {},
   "outputs": [],
   "source": [
    "const table = [\n",
    "    [0, 0],\n",
    "    [0, 1],\n",
    "    [1, 0],\n",
    "    [1, 1]\n",
    "];\n",
    "\n",
    "const singleColumnTable = [0, 1];\n",
    "\n",
    "const binaryOps = {\n",
    "    \"AND\": (a, b) => a & b,\n",
    "    \"OR\": (a, b) => a | b,\n",
    "    \"XOR\": (a, b) => a ^ b,\n",
    "}\n",
    "\n",
    "const unaryOps = {\n",
    "    \"NOT\": (a) => +!a\n",
    "}\n",
    "\n",
    "let s = \"\"\n",
    "for (const [op, fn] of Object.entries(binaryOps)) {\n",
    "    s += `<h1>${op}</h1>\\n`\n",
    "    for (const [a, b] of table) {\n",
    "        s += `<p>${a} ${op} ${b} = ${fn(a, b)}</p>\\n`\n",
    "    }\n",
    "}\n",
    "\n",
    "for (const [op, fn] of Object.entries(unaryOps)) {\n",
    "    s += `<h1>${op}</h1>\\n`\n",
    "    for (const a of singleColumnTable) {\n",
    "        s += `<p>${op} ${a} = ${fn(a)}</p>\\n`\n",
    "    }\n",
    "}\n",
    "\n",
    "document.getElementById(\"table\").innerHTML = s;"
   ]
  },
  {
   "cell_type": "markdown",
   "metadata": {},
   "source": [
    "<p id=\"table\"></p>\n",
    "\n",
    "<script>\n",
    "    const table = [\n",
    "    [0, 0],\n",
    "    [0, 1],\n",
    "    [1, 0],\n",
    "    [1, 1]\n",
    "];\n",
    "\n",
    "const singleColumnTable = [0, 1];\n",
    "\n",
    "const binaryOps = {\n",
    "    \"AND\": (a, b) => a & b,\n",
    "    \"OR\": (a, b) => a | b,\n",
    "    \"XOR\": (a, b) => a ^ b,\n",
    "}\n",
    "\n",
    "const unaryOps = {\n",
    "    \"NOT\": (a) => +!a\n",
    "}\n",
    "\n",
    "let s = \"\"\n",
    "for (const [op, fn] of Object.entries(binaryOps)) {\n",
    "    s += `<h2>${op}</h2>\\n`\n",
    "    for (const [a, b] of table) {\n",
    "        s += `<p>${a} ${op} ${b} = ${fn(a, b)}</p>\\n`\n",
    "    }\n",
    "}\n",
    "\n",
    "for (const [op, fn] of Object.entries(unaryOps)) {\n",
    "    s += `<h2>${op}</h2>\\n`\n",
    "    for (const a of singleColumnTable) {\n",
    "        s += `<p>${op} ${a} = ${fn(a)}</p>\\n`\n",
    "    }\n",
    "}\n",
    "\n",
    "document.getElementById(\"table\").innerHTML = s;\n",
    "</script>"
   ]
  }
 ],
 "metadata": {
  "kernelspec": {
   "display_name": "JavaScript (Node.js)",
   "language": "javascript",
   "name": "javascript"
  },
  "language_info": {
   "file_extension": ".js",
   "mimetype": "application/javascript",
   "name": "javascript",
   "version": "18.1.0"
  },
  "orig_nbformat": 4,
  "vscode": {
   "interpreter": {
    "hash": "916dbcbb3f70747c44a77c7bcd40155683ae19c65e1c03b4aa3499c5328201f1"
   }
  }
 },
 "nbformat": 4,
 "nbformat_minor": 2
}

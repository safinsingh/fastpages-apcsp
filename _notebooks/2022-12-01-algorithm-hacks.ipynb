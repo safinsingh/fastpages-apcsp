{
 "cells": [
  {
   "cell_type": "markdown",
   "metadata": {},
   "source": [
    "# Algorithm Hacks\n",
    "\n",
    "- toc: true\n",
    "- badges: true\n",
    "- comments: true\n",
    "- categories: [jupyter]"
   ]
  },
  {
   "cell_type": "markdown",
   "metadata": {},
   "source": [
    "# Truth Table"
   ]
  },
  {
   "cell_type": "code",
   "execution_count": null,
   "metadata": {
    "vscode": {
     "languageId": "javascript"
    }
   },
   "outputs": [],
   "source": [
    "const table = [\n",
    "    [0, 0],\n",
    "    [0, 1],\n",
    "    [1, 0],\n",
    "    [1, 1]\n",
    "];\n",
    "\n",
    "const singleColumnTable = [0, 1];\n",
    "\n",
    "const binaryOps = {\n",
    "    \"AND\": (a, b) => a & b,\n",
    "    \"OR\": (a, b) => a | b,\n",
    "    \"XOR\": (a, b) => a ^ b,\n",
    "}\n",
    "\n",
    "const unaryOps = {\n",
    "    \"NOT\": (a) => +!a\n",
    "}\n",
    "\n",
    "let s = \"\"\n",
    "for (const [op, fn] of Object.entries(binaryOps)) {\n",
    "    s += `<h1>${op}</h1>\\n`\n",
    "    for (const [a, b] of table) {\n",
    "        s += `<p>${a} ${op} ${b} = ${fn(a, b)}</p>\\n`\n",
    "    }\n",
    "}\n",
    "\n",
    "for (const [op, fn] of Object.entries(unaryOps)) {\n",
    "    s += `<h1>${op}</h1>\\n`\n",
    "    for (const a of singleColumnTable) {\n",
    "        s += `<p>${op} ${a} = ${fn(a)}</p>\\n`\n",
    "    }\n",
    "}\n",
    "\n",
    "document.getElementById(\"table\").innerHTML = s;"
   ]
  },
  {
   "cell_type": "markdown",
   "metadata": {},
   "source": [
    "<p id=\"table\"></p>\n",
    "\n",
    "<script>\n",
    "    const table = [\n",
    "    [0, 0],\n",
    "    [0, 1],\n",
    "    [1, 0],\n",
    "    [1, 1]\n",
    "];\n",
    "\n",
    "const singleColumnTable = [0, 1];\n",
    "\n",
    "const binaryOps = {\n",
    "    \"AND\": (a, b) => a & b,\n",
    "    \"OR\": (a, b) => a | b,\n",
    "    \"XOR\": (a, b) => a ^ b,\n",
    "}\n",
    "\n",
    "const unaryOps = {\n",
    "    \"NOT\": (a) => +!a\n",
    "}\n",
    "\n",
    "let s = \"\"\n",
    "for (const [op, fn] of Object.entries(binaryOps)) {\n",
    "    s += `<h2>${op}</h2>\\n`\n",
    "    for (const [a, b] of table) {\n",
    "        s += `<p>${a} ${op} ${b} = ${fn(a, b)}</p>\\n`\n",
    "    }\n",
    "}\n",
    "\n",
    "for (const [op, fn] of Object.entries(unaryOps)) {\n",
    "    s += `<h2>${op}</h2>\\n`\n",
    "    for (const a of singleColumnTable) {\n",
    "        s += `<p>${op} ${a} = ${fn(a)}</p>\\n`\n",
    "    }\n",
    "}\n",
    "\n",
    "document.getElementById(\"table\").innerHTML = s;\n",
    "</script>"
   ]
  },
  {
   "cell_type": "markdown",
   "metadata": {},
   "source": [
    "# Binary to Hex/Decimal"
   ]
  },
  {
   "cell_type": "code",
   "execution_count": 1,
   "metadata": {
    "vscode": {
     "languageId": "javascript"
    }
   },
   "outputs": [
    {
     "name": "stdout",
     "output_type": "stream",
     "text": [
      "75d\n",
      "1885\n"
     ]
    }
   ],
   "source": [
    "const binaryString = \"11101011101\";\n",
    "const hexValue = (bin) => parseInt(bin, 2).toString(16);\n",
    "const decValue = (bin) => parseInt(bin, 2).toString(10);\n",
    "\n",
    "console.log(hexValue(binaryString));\n",
    "console.log(decValue(binaryString));"
   ]
  },
  {
   "cell_type": "code",
   "execution_count": 2,
   "metadata": {},
   "outputs": [
    {
     "name": "stdout",
     "output_type": "stream",
     "text": [
      "0x75d\n",
      "1885\n"
     ]
    }
   ],
   "source": [
    "binaryString = \"11101011101\"\n",
    "\n",
    "def hexValue(bin):\n",
    "    return hex(int(bin, 2))\n",
    "\n",
    "def decValue(bin):\n",
    "    return str(int(bin, 2))\n",
    "\n",
    "print(hexValue(binaryString))\n",
    "print(decValue(binaryString))"
   ]
  },
  {
   "cell_type": "markdown",
   "metadata": {},
   "source": [
    "# Fibonacci"
   ]
  },
  {
   "cell_type": "code",
   "execution_count": 1,
   "metadata": {
    "vscode": {
     "languageId": "javascript"
    }
   },
   "outputs": [
    {
     "name": "stdout",
     "output_type": "stream",
     "text": [
      "0\n",
      "1\n",
      "1\n",
      "2\n",
      "3\n",
      "5\n",
      "8\n",
      "13\n",
      "21\n",
      "34\n"
     ]
    }
   ],
   "source": [
    "const fib = (n) => {\n",
    "    if (n === 0 || n === 1) return n\n",
    "    return fib(n - 1) + fib(n - 2)\n",
    "}\n",
    "\n",
    "for (let i = 0; i< 10; i++) {\n",
    "    console.log(fib(i))\n",
    "}"
   ]
  },
  {
   "cell_type": "code",
   "execution_count": 1,
   "metadata": {},
   "outputs": [
    {
     "name": "stdout",
     "output_type": "stream",
     "text": [
      "0\n",
      "1\n",
      "1\n",
      "2\n",
      "3\n",
      "5\n",
      "8\n",
      "13\n",
      "21\n",
      "34\n"
     ]
    }
   ],
   "source": [
    "def fib(n):\n",
    "    if n == 0 or n == 1:\n",
    "        return n\n",
    "    return fib(n - 1) + fib(n - 2)\n",
    "\n",
    "for i in range(10):\n",
    "    print(fib(i))"
   ]
  },
  {
   "cell_type": "markdown",
   "metadata": {},
   "source": [
    "# Palindrome"
   ]
  },
  {
   "cell_type": "code",
   "execution_count": 1,
   "metadata": {
    "vscode": {
     "languageId": "javascript"
    }
   },
   "outputs": [
    {
     "name": "stdout",
     "output_type": "stream",
     "text": [
      "dcba\n",
      "true\n",
      "abcdeffedcba\n"
     ]
    }
   ],
   "source": [
    "const revString = (str) => str.split(\"\").reverse().join(\"\")\n",
    "const isPalindrome = (str) => str === revString(str.split(\"\").reverse().join(\"\"));\n",
    "const createPalindrome = (str) => str + revString(str)\n",
    "\n",
    "console.log(revString(\"abcd\"))\n",
    "console.log(isPalindrome(\"abba\"))\n",
    "console.log(createPalindrome(\"abcdef\"))"
   ]
  },
  {
   "cell_type": "code",
   "execution_count": 1,
   "metadata": {},
   "outputs": [
    {
     "name": "stdout",
     "output_type": "stream",
     "text": [
      "dcba\n",
      "True\n",
      "abcdeffedcba\n"
     ]
    }
   ],
   "source": [
    "def rev_string(str):\n",
    "    return str[::-1]\n",
    "\n",
    "def is_palindrome(str):\n",
    "    return rev_string(str) == str\n",
    "\n",
    "def create_palindrome(str):\n",
    "    return str + rev_string(str)\n",
    "\n",
    "print(rev_string(\"abcd\"))\n",
    "print(is_palindrome(\"abba\"))\n",
    "print(create_palindrome(\"abcdef\"))"
   ]
  },
  {
   "cell_type": "markdown",
   "metadata": {},
   "source": [
    "# Other (extra)"
   ]
  },
  {
   "cell_type": "code",
   "execution_count": 1,
   "metadata": {
    "vscode": {
     "languageId": "javascript"
    }
   },
   "outputs": [
    {
     "name": "stdout",
     "output_type": "stream",
     "text": [
      "found 4 at idx 3\n"
     ]
    }
   ],
   "source": [
    "const binarySearch1 = (xs, x, start, end) => {\n",
    "    if (start > end) return -1;\n",
    "    \n",
    "    const mid = Math.floor((start+end) / 2);\n",
    "    if (xs[mid] === x) return mid;\n",
    "    if (xs[mid] > x) return binarySearch1(xs, x, start,  mid-1);\n",
    "    if (xs[mid] < x) return binarySearch1(xs, x, mid+1,  end);\n",
    "}\n",
    "\n",
    "const binarySearch = (xs, x) => binarySearch1(xs, x, 0, xs.length - 1)\n",
    "\n",
    "const arr = [1, 2, 3, 4, 5, 6, 7, 8, 9, 10]\n",
    "const needle = 4\n",
    "console.log(`found ${needle} at idx ${binarySearch(arr, needle)}`)"
   ]
  },
  {
   "cell_type": "code",
   "execution_count": 1,
   "metadata": {},
   "outputs": [
    {
     "name": "stdout",
     "output_type": "stream",
     "text": [
      "found 4 at idx 3\n"
     ]
    }
   ],
   "source": [
    "import math\n",
    "\n",
    "def binary_search1(xs, x, start, end):\n",
    "    if start > end: return -1\n",
    "    mid = math.floor((start + end) / 2)\n",
    "    if xs[mid] == x: return mid\n",
    "    if xs[mid] > x: return binary_search1(xs, x, start,  mid-1)\n",
    "    if xs[mid] < x: return binary_search1(xs, x, mid+1,  end)\n",
    "\n",
    "def binary_search(xs, x):\n",
    "    return binary_search1(xs, x, 0, len(xs) - 1)\n",
    "\n",
    "arr = [1, 2, 3, 4, 5, 6, 7, 8, 9, 10]\n",
    "needle = 4\n",
    "print(\"found {} at idx {}\".format(needle, binary_search(arr, needle)))"
   ]
  }
 ],
 "metadata": {
  "kernelspec": {
   "display_name": "Python 3.9.12 ('base')",
   "language": "python",
   "name": "python3"
  },
  "language_info": {
   "codemirror_mode": {
    "name": "ipython",
    "version": 3
   },
   "file_extension": ".py",
   "mimetype": "text/x-python",
   "name": "python",
   "nbconvert_exporter": "python",
   "pygments_lexer": "ipython3",
   "version": "3.9.12"
  },
  "orig_nbformat": 4,
  "vscode": {
   "interpreter": {
    "hash": "a554e3b18ab91e38da13530925b83e6ae0d398308bf3621088c9bc41e0b591f4"
   }
  }
 },
 "nbformat": 4,
 "nbformat_minor": 2
}

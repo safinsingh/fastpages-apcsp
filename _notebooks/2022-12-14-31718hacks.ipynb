{
 "cells": [
  {
   "attachments": {},
   "cell_type": "markdown",
   "metadata": {},
   "source": [
    "# Unit 3.17/3.18 Hacks\n",
    "\n",
    "- toc: true\n",
    "- badges: true\n",
    "- comments: true\n",
    "- categories: [jupyter]"
   ]
  },
  {
   "attachments": {},
   "cell_type": "markdown",
   "metadata": {},
   "source": [
    "# Hack 1"
   ]
  },
  {
   "cell_type": "code",
   "execution_count": 4,
   "metadata": {},
   "outputs": [
    {
     "name": "stdout",
     "output_type": "stream",
     "text": [
      "20\n",
      "10\n",
      "5\n",
      "16\n",
      "8\n",
      "4\n",
      "2\n",
      "iterations: 7\n"
     ]
    }
   ],
   "source": [
    "def collatz(n):\n",
    "    itns = 0\n",
    "    while n != 1:\n",
    "        print(int(n))\n",
    "        if n % 2 == 0: n /= 2\n",
    "        else: n = n * 3 + 1\n",
    "        itns += 1\n",
    "    return itns\n",
    "print(\"iterations:\", collatz(int(input(\"number to start from? \"))))\n"
   ]
  },
  {
   "attachments": {},
   "cell_type": "markdown",
   "metadata": {},
   "source": [
    "# Hack 2"
   ]
  },
  {
   "cell_type": "code",
   "execution_count": 7,
   "metadata": {},
   "outputs": [
    {
     "name": "stdout",
     "output_type": "stream",
     "text": [
      "inefficient loop time: \n",
      "180 ms ± 83.7 ms per loop (mean ± std. dev. of 7 runs, 1 loop each)\n",
      "efficient loop time: \n",
      "230 ns ± 8.54 ns per loop (mean ± std. dev. of 7 runs, 1,000,000 loops each)\n"
     ]
    }
   ],
   "source": [
    "# inefficient\n",
    "def sum_range_slow(n):\n",
    "    ret = 0\n",
    "    c = 0\n",
    "    while c <= n:\n",
    "        ret += c\n",
    "        c += 1\n",
    "    return ret\n",
    "\n",
    "print(\"inefficient loop time: \")\n",
    "%timeit sum_range_slow(1000000)\n",
    "\n",
    "# efficient\n",
    "def sum_range_fast(n):\n",
    "    return n * (n + 1) / 2\n",
    "\n",
    "print(\"efficient loop time: \")\n",
    "%timeit sum_range_fast(1000000)\n",
    "\n",
    "# 180ms >>> 230ns"
   ]
  },
  {
   "attachments": {},
   "cell_type": "markdown",
   "metadata": {},
   "source": [
    "The main difference between the two functions is that the first function uses a loop to iterate over the range of numbers from 0 to `n`, while the second function uses a mathematical formula to compute the sum directly.\n",
    "\n",
    "In the first function, sum_range_slow, the loop will execute `n+1` times, which means that the time it takes to execute this function will be proportional to n, the input size. This is known as having a linear time complexity.\n",
    "\n",
    "On the other hand, the second function, sum_range_fast, uses a mathematical formula to compute the sum of the range of numbers from 0 to `n` in a single step, without using a loop. As a result, the time it takes to execute this function does not depend on the size of the input, `n`. This is known as having a constant time complexity.\n",
    "\n",
    "In general, algorithms with a lower time complexity will be more efficient and faster than algorithms with a higher time complexity, especially when the input size is large. In this case, the second function is much more efficient than the first one because it has a constant time complexity, while the first one has a linear time complexity.\n",
    "\n",
    "Algorithm efficiency: refers to how quickly an algorithm can solve a problem, or how much time and resources it requires to do so."
   ]
  }
 ],
 "metadata": {
  "kernelspec": {
   "display_name": "base",
   "language": "python",
   "name": "python3"
  },
  "language_info": {
   "codemirror_mode": {
    "name": "ipython",
    "version": 3
   },
   "file_extension": ".py",
   "mimetype": "text/x-python",
   "name": "python",
   "nbconvert_exporter": "python",
   "pygments_lexer": "ipython3",
   "version": "3.9.12"
  },
  "orig_nbformat": 4,
  "vscode": {
   "interpreter": {
    "hash": "a554e3b18ab91e38da13530925b83e6ae0d398308bf3621088c9bc41e0b591f4"
   }
  }
 },
 "nbformat": 4,
 "nbformat_minor": 2
}

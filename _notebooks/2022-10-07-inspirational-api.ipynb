{
 "cells": [
  {
   "cell_type": "markdown",
   "metadata": {},
   "source": [
    "# Inspirational Quotes API\n",
    "\n",
    "- toc: true\n",
    "- badges: true\n",
    "- comments: true\n",
    "- categories: [python, javascript]"
   ]
  },
  {
   "cell_type": "markdown",
   "metadata": {},
   "source": [
    "# Consuming an API\n",
    "\n",
    "The following sends a POST request to the PQuotes API."
   ]
  },
  {
   "cell_type": "code",
   "execution_count": 20,
   "metadata": {},
   "outputs": [
    {
     "name": "stdout",
     "output_type": "stream",
     "text": [
      "Your inspirational quote of the day is:\n",
      " \"Believe you can and you’re halfway there.\" --  Theodore Roosevelt\n"
     ]
    }
   ],
   "source": [
    "# import http request library\n",
    "import requests\n",
    "\n",
    "# api endpoint\n",
    "url = \"https://pquotes.p.rapidapi.com/api/quote\"\n",
    "\n",
    "# specify topic\n",
    "payload = {\"topic\": \"motivation\"}\n",
    "# rapidapi headers (key, host, and body type)\n",
    "headers = {\n",
    "\t\"content-type\": \"application/json\",\n",
    "\t\"X-RapidAPI-Key\": \"c4fb753596mshe0fd8cf8607e256p1eb9ebjsn7c61a5142004\",\n",
    "\t\"X-RapidAPI-Host\": \"pquotes.p.rapidapi.com\"\n",
    "}\n",
    "\n",
    "# send post request to API with body and headers; convert response from json to obj\n",
    "response = requests.post(url, json=payload, headers=headers).json()\n",
    "# get text and author from response\n",
    "text = response[\"quote\"]\n",
    "author = response[\"by\"]\n",
    "\n",
    "# print quote using python format string\n",
    "print(f\"Your inspirational quote of the day is:\\n \\\"{text}\\\" -- {author}\")"
   ]
  },
  {
   "cell_type": "markdown",
   "metadata": {},
   "source": [
    "# Creating an API with Flask"
   ]
  },
  {
   "cell_type": "code",
   "execution_count": 26,
   "metadata": {},
   "outputs": [],
   "source": [
    "from flask import Flask, request\n",
    "import random\n",
    "\n",
    "app = Flask(__name__)\n",
    "\n",
    "quotes = [\n",
    "    \"GOD DID - DJ Khaled\",\n",
    "    \"What do I do now - Alex Kumar\",\n",
    "    \"You are your only limit - Kalani Cabral-Omana\",\n",
    "    \"You give a man food, he's given lunch for the day. If you teach a man, then you like, can eat... I forgot what it was - Navan Yatavelli\"\n",
    "]\n",
    "\n",
    "\n",
    "def random_quote():\n",
    "    return random.choice(quotes)\n",
    "\n",
    "\n",
    "@app.route('/get', methods=['GET'])\n",
    "def get():\n",
    "    return {\n",
    "        \"status\": \"success\",\n",
    "        \"data\": {\n",
    "            \"quote\": random_quote()\n",
    "        }\n",
    "    }\n",
    "\n",
    "\n",
    "@app.route('/post', methods=['POST'])\n",
    "def post():\n",
    "    data = request.json\n",
    "    name = data[\"name\"]\n",
    "    return {\n",
    "        \"status\": \"success\",\n",
    "        \"data\": {\n",
    "            \"message\": \"Hello, \" + name\n",
    "        }\n",
    "    }"
   ]
  }
 ],
 "metadata": {
  "kernelspec": {
   "display_name": "Python 3.9.12 ('base')",
   "language": "python",
   "name": "python3"
  },
  "language_info": {
   "codemirror_mode": {
    "name": "ipython",
    "version": 3
   },
   "file_extension": ".py",
   "mimetype": "text/x-python",
   "name": "python",
   "nbconvert_exporter": "python",
   "pygments_lexer": "ipython3",
   "version": "3.9.12"
  },
  "orig_nbformat": 4,
  "vscode": {
   "interpreter": {
    "hash": "a554e3b18ab91e38da13530925b83e6ae0d398308bf3621088c9bc41e0b591f4"
   }
  }
 },
 "nbformat": 4,
 "nbformat_minor": 2
}

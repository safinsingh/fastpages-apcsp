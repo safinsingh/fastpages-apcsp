{
 "cells": [
  {
   "cell_type": "markdown",
   "metadata": {},
   "source": [
    "# Unit 3.3/3.4 Hacks\n",
    "\n",
    "- toc: true\n",
    "- badges: true\n",
    "- comments: true\n",
    "- categories: [jupyter]"
   ]
  },
  {
   "cell_type": "markdown",
   "metadata": {},
   "source": [
    "# 3.3.1\n",
    "\n",
    "Sequencing: `1, 2, 3, 4, 5`\n",
    "\n",
    "> All events in the list are part of a sequence. All events must occur in the specified order\n",
    "\n",
    "\n",
    "Selection: `3`\n",
    "\n",
    "<br>\n",
    "\n",
    "> This step evaluates an expression to a boolean and determines the following code path based on its result\n",
    "\n",
    "\n",
    "Iteration: `4`\n",
    "\n",
    "\n",
    "> Causes code to loop until a certain condition is met"
   ]
  },
  {
   "cell_type": "code",
   "execution_count": 3,
   "metadata": {},
   "outputs": [
    {
     "name": "stdout",
     "output_type": "stream",
     "text": [
      "3.0\n"
     ]
    }
   ],
   "source": [
    "# Evaluate code snippet\n",
    "\n",
    "num1 = 5\n",
    "# num1 = 5\n",
    "\n",
    "num2 = num1 * 3\n",
    "# num2 = 15\n",
    "\n",
    "num3 = num2 / num1 * (9 % 2) * 4\n",
    "# num3 = 15 / 5 * (9 % 2) * 4\n",
    "# num3 = 15 / 5 * 1 * 4\n",
    "# num3 = 12\n",
    "\n",
    "result = (num3 % num1 + num2) % num3 * 3 / 5\n",
    "# result = (12 % 5 + 15) % 12 * 3 / 5\n",
    "# result = (2 + 15) % 12 * 3 / 5\n",
    "# result = 5 * 3 / 5\n",
    "# result = 3\n",
    "\n",
    "# check\n",
    "print(result)"
   ]
  },
  {
   "cell_type": "markdown",
   "metadata": {},
   "source": [
    "# 3.3 Crossword Puzzle\n",
    "\n",
    "1, down:    ITERATION\n",
    "\n",
    "2, down:    SELECTION\n",
    "\n",
    "3, across:  SEQUENCE"
   ]
  },
  {
   "cell_type": "markdown",
   "metadata": {},
   "source": [
    "# 3.4 Quiz\n",
    "\n",
    "![](https://github.com/safinsingh/fastpages-apcsp/raw/master/images/34quiz.png)"
   ]
  }
 ],
 "metadata": {
  "kernelspec": {
   "display_name": "Python 3.9.12 ('base')",
   "language": "python",
   "name": "python3"
  },
  "language_info": {
   "codemirror_mode": {
    "name": "ipython",
    "version": 3
   },
   "file_extension": ".py",
   "mimetype": "text/x-python",
   "name": "python",
   "nbconvert_exporter": "python",
   "pygments_lexer": "ipython3",
   "version": "3.9.12"
  },
  "orig_nbformat": 4,
  "vscode": {
   "interpreter": {
    "hash": "1448b48b023bcc9c3d4a79e814720a10ca6d4244f75e0f7ce4af58f96ba2b7d3"
   }
  }
 },
 "nbformat": 4,
 "nbformat_minor": 2
}

{
 "cells": [
  {
   "cell_type": "markdown",
   "metadata": {},
   "source": [
    "# Python Quiz\n",
    "\n",
    "- toc: false \n",
    "- badges: true\n",
    "- comments: true\n",
    "- categories: [jupyter]\n",
    "- image: images/chart-preview.png"
   ]
  },
  {
   "cell_type": "markdown",
   "metadata": {},
   "source": [
    "You can use the following quiz to test your Python knowledge!"
   ]
  },
  {
   "cell_type": "code",
   "execution_count": null,
   "metadata": {},
   "outputs": [],
   "source": [
    "def ask(qna):\n",
    "    # destructure qna tuple\n",
    "    question, answer = qna\n",
    "\n",
    "    # get user input\n",
    "    res = input(question + \" \")\n",
    "\n",
    "    # make comparison case-insensitive (given our answers are lowercase)\n",
    "    if res.lower() == answer:\n",
    "        # use string interpolation to print a correct anser\n",
    "        print(\"'{}' is the correct answer!\".format(res))\n",
    "        return True\n",
    "    else:\n",
    "        # prompt the user to try again if they want to\n",
    "        again = input(\"'{}' is incorrect. Try again? [y/N] \".format(res))\n",
    "        if again == \"y\":\n",
    "            # recursively call \"ask\" function for the retry feature\n",
    "            return ask(qna)\n",
    "        else:\n",
    "            return False\n",
    "\n",
    "\n",
    "questions_and_answers = [\n",
    "    # Pre-written questions\n",
    "    (\"What command is used to include other functions that were previously developed?\", \"import\"),\n",
    "    (\"What command is used to evaluate correct or incorrect response in this example?\", \"if\"),\n",
    "    (\"Each 'if' command contains an '_________' to determine a true or false condition?\", \"expression\"),\n",
    "    # My own questions\n",
    "    (\"The two possible boolean values in Python are true and '____'.\", \"false\"),\n",
    "    (\"Python is a(n) [interpreted/compiled] language.\", \"interpreted\"),\n",
    "    (\"A '___' loop can iterate over items in a list.\", \"for\"),\n",
    "    (\"What keyword can be used to create a block that can catch and handle an exception?\", \"try\"),\n",
    "    # Questions for the document\n",
    "    (\"A function '________' allows the programmer to specify additional info to a function.\", \"parameter\"),\n",
    "    (\"The 'def' keyword is used when defining a '________'.\", \"function\"),\n",
    "    (\"The '_' operator can be used to concatenate two strings.\", \"+\")\n",
    "]\n",
    "\n",
    "### MAIN ###\n",
    "\n",
    "print(\"Welcome to the Python quiz!\")\n",
    "\n",
    "# counter for the total correct answers\n",
    "correct = 0\n",
    "\n",
    "# loop over all items in the questions_and_answers list\n",
    "for qna in questions_and_answers:\n",
    "    if ask(qna):\n",
    "        # increment the counter if the user gets something correct\n",
    "        correct += 1\n",
    "\n",
    "# display the total score at the end with an encouraging message\n",
    "print(\"Great job! You got a score of {}%.\".format(\n",
    "    int(100 * correct / len(questions_and_answers))))"
   ]
  },
  {
   "cell_type": "markdown",
   "metadata": {},
   "source": [
    "Here's a screenshot of my quiz running as a separate Python file in my terminal to \"show workflow of Input and Output in terminal\":\n",
    "![quiz](https://github.com/safinsingh/fastpages-apcsp/blob/master/_notebooks/quiz/python-quiz.png?raw=true)"
   ]
  }
 ],
 "metadata": {
  "kernelspec": {
   "display_name": "Python 3.8.10 64-bit",
   "language": "python",
   "name": "python3"
  },
  "language_info": {
   "name": "python",
   "version": "3.8.10"
  },
  "orig_nbformat": 4,
  "vscode": {
   "interpreter": {
    "hash": "916dbcbb3f70747c44a77c7bcd40155683ae19c65e1c03b4aa3499c5328201f1"
   }
  }
 },
 "nbformat": 4,
 "nbformat_minor": 2
}

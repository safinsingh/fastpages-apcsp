{
 "cells": [
  {
   "attachments": {},
   "cell_type": "markdown",
   "metadata": {},
   "source": [
    "# Data Structures Guide \n",
    "> A guide to data structures such as lists, dictionaries, 2D arrays, and iteration\n",
    "  \n",
    "- title: Data Structures Guide\n",
    "- author: Team EAAR, Ethan Tran, Alex Kumar, Advay Shindikar, Amay Advani, Rohin Sood"
   ]
  },
  {
   "attachments": {},
   "cell_type": "markdown",
   "metadata": {},
   "source": [
    "## Objectives:\n",
    "\n",
    "Students will be able to...\n",
    "- Understand the concept of data structures, including lists, dictionaries, and 2D arrays\n",
    "- Learn how to iterate through data structures using loops\n",
    "- Able to visualize data structures and iteration processes\n",
    "- Able to apply their knowledge to build simulations/interactions using lists and iteration\n",
    "- Learn how to store list and dictionary content in databases\n",
    "\n",
    "\n",
    "# Lesson 1: Lists and Iteration \n",
    "\n",
    "\n",
    "## Lists (Ethan)\n",
    "\n",
    "- Lists are a type of data structure that can store multiple items in a single variable\n",
    "- Lists are defined using square brackets [ ]\n",
    "- Each item in a list is separated by a comma\n",
    "- Lists are indexed, starting at 0 "
   ]
  },
  {
   "cell_type": "code",
   "execution_count": 15,
   "metadata": {},
   "outputs": [
    {
     "name": "stdout",
     "output_type": "stream",
     "text": [
      "['apple', 'banana', 'orange', 'grape']\n"
     ]
    }
   ],
   "source": [
    "# Example list\n",
    "fruits = [\"apple\", \"banana\", \"orange\", \"grape\"]\n",
    "print(fruits)"
   ]
  },
  {
   "attachments": {},
   "cell_type": "markdown",
   "metadata": {},
   "source": [
    "## Accessing Lists\n",
    "\n",
    "- To access individual items in a list, we use the index of the item.\n",
    "- Python uses zero-based indexing, which means the first item in the list has an index of 0, the second item has an index of 1, and so on."
   ]
  },
  {
   "cell_type": "code",
   "execution_count": 6,
   "metadata": {},
   "outputs": [
    {
     "name": "stdout",
     "output_type": "stream",
     "text": [
      "apple\n",
      "orange\n"
     ]
    }
   ],
   "source": [
    "print(fruits[0])   \n",
    "print(fruits[2]) "
   ]
  },
  {
   "attachments": {},
   "cell_type": "markdown",
   "metadata": {},
   "source": [
    "## Slicing Lists\n",
    "\n",
    "- We can also extract a specific portion of a list using slicing.\n",
    "- We use the colon : operator to specify a range of indices to include."
   ]
  },
  {
   "cell_type": "code",
   "execution_count": 23,
   "metadata": {},
   "outputs": [
    {
     "name": "stdout",
     "output_type": "stream",
     "text": [
      "['apple', 'banana']\n"
     ]
    }
   ],
   "source": [
    "print(fruits[0:2])    "
   ]
  },
  {
   "attachments": {},
   "cell_type": "markdown",
   "metadata": {},
   "source": [
    "## Modifying List Items\n",
    "\n",
    "- Lists are mutable, meaning that we can change the value of an item in a list.\n",
    "- To change the value of an item in a list, we can use the indexing operator (square brackets) to access the item and then assign a new value to it."
   ]
  },
  {
   "cell_type": "code",
   "execution_count": 25,
   "metadata": {},
   "outputs": [
    {
     "name": "stdout",
     "output_type": "stream",
     "text": [
      "['apple', 'banana', 'pear', 'grape', 'kiwi']\n"
     ]
    }
   ],
   "source": [
    "fruits[2] = \"pear\"\n",
    "print(fruits)"
   ]
  },
  {
   "attachments": {},
   "cell_type": "markdown",
   "metadata": {},
   "source": [
    "## Adding and Removing List Items\n",
    "\n",
    "> Adding\n",
    "\n",
    "- Use the append() method to add an item to the end of a list."
   ]
  },
  {
   "cell_type": "code",
   "execution_count": 26,
   "metadata": {},
   "outputs": [
    {
     "name": "stdout",
     "output_type": "stream",
     "text": [
      "['apple', 'banana', 'pear', 'grape', 'kiwi', 'kiwi']\n"
     ]
    }
   ],
   "source": [
    "fruits.append(\"kiwi\") # Adds 'kiwi' to the end of the list\n",
    "print(fruits)"
   ]
  },
  {
   "cell_type": "markdown",
   "metadata": {},
   "source": [
    "- Use the insert() method to add an item to a specific index in a list."
   ]
  },
  {
   "cell_type": "code",
   "execution_count": 27,
   "metadata": {},
   "outputs": [
    {
     "name": "stdout",
     "output_type": "stream",
     "text": [
      "['apple', 'peach', 'banana', 'pear', 'grape', 'kiwi', 'kiwi']\n"
     ]
    }
   ],
   "source": [
    "fruits.insert(1, \"peach\") # Inserts \"peach\" at index 1\n",
    "print(fruits)"
   ]
  },
  {
   "attachments": {},
   "cell_type": "markdown",
   "metadata": {},
   "source": [
    "> Removing\n",
    "\n",
    "- Use the remove() method to remove the first occurrence of an item from a list."
   ]
  },
  {
   "cell_type": "code",
   "execution_count": 28,
   "metadata": {},
   "outputs": [
    {
     "name": "stdout",
     "output_type": "stream",
     "text": [
      "['apple', 'peach', 'banana', 'grape', 'kiwi', 'kiwi']\n"
     ]
    }
   ],
   "source": [
    "fruits.remove('pear') # Removes the first occurrence of 'pear'\n",
    "print(fruits)"
   ]
  },
  {
   "attachments": {},
   "cell_type": "markdown",
   "metadata": {},
   "source": [
    "- Use the pop() method to remove the item at a specific index from a list."
   ]
  },
  {
   "cell_type": "code",
   "execution_count": 29,
   "metadata": {},
   "outputs": [
    {
     "name": "stdout",
     "output_type": "stream",
     "text": [
      "['apple', 'peach', 'grape', 'kiwi', 'kiwi']\n"
     ]
    }
   ],
   "source": [
    "fruits.pop(2) # Removes the item at index 2\n",
    "print(fruits)"
   ]
  },
  {
   "cell_type": "markdown",
   "metadata": {},
   "source": [
    "- Use the clear() method to remove all items from a list."
   ]
  },
  {
   "cell_type": "code",
   "execution_count": 30,
   "metadata": {},
   "outputs": [
    {
     "name": "stdout",
     "output_type": "stream",
     "text": [
      "[]\n"
     ]
    }
   ],
   "source": [
    "fruits.clear() # Removes all items from the list\n",
    "print(fruits)"
   ]
  },
  {
   "attachments": {},
   "cell_type": "markdown",
   "metadata": {},
   "source": [
    "## Function Explanation\n",
    "\n",
    "> InsertToList\n",
    "\n",
    "- This function is designed to insert a new item into a list at a specific index.\n",
    "- It first retrieves the new item to be added and the index at which to add it from the HTML document.\n",
    "- It checks if the retrieved values are both valid integers and if the index is within the range of the list.\n",
    "- If the values are valid, the function uses the splice() method to insert the new item into the list at the specified index. \n",
    "- In JavaScript, the splice() method modifies an array by removing, replacing, or adding elements.\n",
    "- The splice() method takes three arguments: the index at which to start changing the list, the number of elements to remove, and the new item to add. \n",
    "- The item is inserted without removing any elements, so we pass 0 as the second argument.\n",
    "- Finally, the function calls the visualizeList() function to display the updated list on the web page.\n",
    "\n",
    "```\n",
    "  // Get the value of the new item and the index where it should be inserted\n",
    "  function insertToList() {\n",
    "      let newItem = parseInt(document.getElementById(\"newItem\").value);\n",
    "      let index = parseInt(document.getElementById(\"index\").value);\n",
    "      if (!isNaN(newItem) && !isNaN(index) && index >= 0 && index <= myList.length) {\n",
    "        // splice() method to insert the new item into the list\n",
    "        myList.splice(index - 1, 0, newItem);\n",
    "        // Call the visualizeList() function to update the display of the list\n",
    "        visualizeList();\n",
    "      }\n",
    "    } ```"
   ]
  },
  {
   "attachments": {},
   "cell_type": "markdown",
   "metadata": {},
   "source": [
    "> SortList\n",
    "\n",
    "- In JavaScript, sort() is a built-in method used to sort the elements of an array in place. The default sort order is ascending, but you can also specify a descending sort order.\n",
    "- In this case, the function sorts myList in ascending order based on their numerical value.\n",
    "\n",
    "```\n",
    "  // Sort myList array in ascending order     \n",
    "  function sortList() {\n",
    "      // The function a - b is used, which subtracts the second element b from the first element a. \n",
    "      // If the result is negative, a is sorted before b. If the result is positive, b is sorted before a. If the result is zero, the order of the elements is unchanged.\n",
    "      myList.sort((a, b) => a - b);\n",
    "      visualizeList();\n",
    "    }```"
   ]
  },
  {
   "attachments": {},
   "cell_type": "markdown",
   "metadata": {},
   "source": [
    "## Applications of Lists\n",
    "\n",
    "- Data processing: Lists are commonly used to store and process large amounts of data. In data analysis and machine learning, lists are often used to store datasets.\n",
    "\n",
    "- Gaming: Lists are used extensively in game development to store game objects, player statistics, and game maps.\n",
    "\n",
    "- Finance: Lists are used in finance to store and process financial data, such as stock prices and market trends. The data from these lists can also be used to calculate financial metrics and to create financial models."
   ]
  },
  {
   "attachments": {},
   "cell_type": "markdown",
   "metadata": {},
   "source": [
    "## Hacks (0.3)\n",
    "\n",
    "- Make your own list and manipulate it via accessing specific elements, adding or removing elements, etc.\n",
    "- Extra: Make an interactable visualization that can manipulate elements in a list such as the one demonstrated in our flask repository"
   ]
  },
  {
   "cell_type": "code",
   "execution_count": 2,
   "metadata": {},
   "outputs": [
    {
     "name": "stdout",
     "output_type": "stream",
     "text": [
      "Federer has 8  Wimbledon wins\n",
      "Federer won in 2003\n",
      "Federer won in 2004\n",
      "Federer won in 2005\n",
      "Federer won in 2006\n",
      "Federer won in 2007\n",
      "Federer won in 2010\n",
      "Federer won in 2012\n",
      "Federer won in 2017\n",
      "There seems to have been an error; he did not win in 2010. Manipulating array...\n",
      "Mistake corrected. Re-sorting list...\n",
      "Federer won in 2003\n",
      "Federer won in 2004\n",
      "Federer won in 2005\n",
      "Federer won in 2006\n",
      "Federer won in 2007\n",
      "Federer won in 2009\n",
      "Federer won in 2012\n",
      "Federer won in 2017\n"
     ]
    }
   ],
   "source": [
    "wimbledonWins = [2003, 2004, 2005, 2006, 2007, 2010, 2012, 2017]\n",
    "\n",
    "print(\"Federer has\", len(wimbledonWins), \" Wimbledon wins\")\n",
    "for win in wimbledonWins:\n",
    "    print(\"Federer won in\", win)\n",
    "\n",
    "print(\"There seems to have been an error; he did not win in 2010. Manipulating array...\")\n",
    "wimbledonWins.remove(2010)\n",
    "wimbledonWins.append(2009)\n",
    "\n",
    "print(\"Mistake corrected. Re-sorting list...\")\n",
    "wimbledonWins.sort()\n",
    "for win in wimbledonWins:\n",
    "    print(\"Federer won in\", win)"
   ]
  },
  {
   "attachments": {},
   "cell_type": "markdown",
   "metadata": {},
   "source": [
    "## Iteration (Alex)\n",
    "\n",
    "What is iteration?\n",
    "\n",
    "- In programming, iteration refers to the process of repeating a set of instructions until a specific condition is met. This can be achieved using loop structures like for loops and while loops.\n",
    "\n",
    "For Loops\n",
    "\n",
    "- A for loop is used to iterate over a sequence (e.g. a list, tuple, string, etc.) and execute a set of statements for each item in the sequence. Here's the basic syntax of a for loop in Python:"
   ]
  },
  {
   "cell_type": "code",
   "execution_count": 2,
   "metadata": {},
   "outputs": [
    {
     "name": "stdout",
     "output_type": "stream",
     "text": [
      "1\n",
      "2\n",
      "3\n",
      "4\n",
      "5\n",
      "6\n",
      "7\n"
     ]
    }
   ],
   "source": [
    "sequence = [1,2,3,4,5,6,7]\n",
    "for variable in sequence:\n",
    "    print(variable)"
   ]
  },
  {
   "cell_type": "code",
   "execution_count": 3,
   "metadata": {},
   "outputs": [
    {
     "name": "stdout",
     "output_type": "stream",
     "text": [
      "H\n",
      "e\n",
      "l\n",
      "l\n",
      "o\n",
      ",\n",
      " \n",
      "W\n",
      "o\n",
      "r\n",
      "l\n",
      "d\n",
      "!\n"
     ]
    }
   ],
   "source": [
    "my_string = \"Hello, World!\"\n",
    "\n",
    "for character in my_string:\n",
    "    print(character)"
   ]
  },
  {
   "cell_type": "markdown",
   "metadata": {},
   "source": [
    "While Loops A while loop is used to repeat a set of statements as long as a condition is true. Here's the basic syntax of a while loop in Python:"
   ]
  },
  {
   "cell_type": "code",
   "execution_count": 4,
   "metadata": {},
   "outputs": [
    {
     "name": "stdout",
     "output_type": "stream",
     "text": [
      "0\n",
      "1\n",
      "2\n",
      "3\n",
      "4\n"
     ]
    }
   ],
   "source": [
    "num = 0\n",
    "\n",
    "while num < 5:\n",
    "    print(num)\n",
    "    num += 1"
   ]
  },
  {
   "attachments": {},
   "cell_type": "markdown",
   "metadata": {},
   "source": [
    "## Applications of Iteration\n",
    "\n",
    "> Iteration is a fundamental concept in computer programming and is used in a variety of real-life applications. Here are some examples:\n",
    "\n",
    "Data Processing\n",
    "\n",
    "- Data processing often involves iterating over large datasets to perform specific operations on each element. For example, in a data analysis task, you might iterate over a list of numbers to compute the average, or iterate over a list of strings to find the longest string.\n",
    "\n",
    "User Interfaces\n",
    "\n",
    "- User interfaces often involve iteration to display and handle data from various sources. For example, in a web application, you might iterate over a list of users to display their information in a table. Similarly, in a desktop application, you might iterate over a list of files to display them in a file explorer.\n",
    "\n",
    "Machine Learning\n",
    "\n",
    "- Machine learning algorithms often involve iterative processes to train models and improve their accuracy. For example, in a gradient descent algorithm, you might iterate over a set of training data to update the model's parameters and minimize the loss function.\n",
    "\n",
    "## Popcorn hack (0.3)\n",
    "\n",
    "- Make a list related to your CPT project\n",
    "- Make a while loop that will print each term in the list\n",
    "- Make a for loop that will print each term in the list\n",
    "\n",
    "```python\n",
    "# hash map implemented as array\n",
    "cpt = [[\"key1\", \"value1\"], [\"key2\", \"value2\"]]\n",
    "\n",
    "def get_item(hash_map, key):\n",
    "    # loop over hash map\n",
    "    for item in hash_map:\n",
    "        # check whether key equals parameter\n",
    "        if key == item[0]:\n",
    "            # print value\n",
    "            print(item[1])\n",
    "\n",
    "get_item(cpt, \"key1\")\n",
    "```\n",
    "\n",
    "```python\n",
    "# instantiate an array\n",
    "temp = [1, 2, 3, 4, 5]\n",
    "# create a variable to represent the index of the current item in the temp array\n",
    "index = 0\n",
    "# while the index is less than the list length\n",
    "while index < len(temp):\n",
    "    # print item at index\n",
    "    print(temp[index])\n",
    "    # increment index\n",
    "    index += 1\n",
    "```\n",
    "\n",
    "```python\n",
    "# instantiate an array\n",
    "temp = [1, 2, 3, 4, 5]\n",
    "# loop over each item in temp by value\n",
    "for item in temp:\n",
    "    # print item\n",
    "    print(item)\n",
    "```\n",
    "\n",
    "Simulation mechanics\n",
    "\n",
    "- In Python, pop() is a method that is used to remove and return an element from a list. The syntax for using pop() is as follows:"
   ]
  },
  {
   "cell_type": "code",
   "execution_count": 31,
   "metadata": {},
   "outputs": [
    {
     "name": "stdout",
     "output_type": "stream",
     "text": [
      "[1, 2, 3, 4, 5]\n",
      "[1, 2, 3, 4]\n",
      "[1, 3, 4]\n"
     ]
    }
   ],
   "source": [
    "my_list = [1, 2, 3, 4, 5]\n",
    "print(my_list)\n",
    "my_list.pop()\n",
    "print(my_list)\n",
    "my_list.pop(1)\n",
    "print(my_list)"
   ]
  },
  {
   "cell_type": "markdown",
   "metadata": {},
   "source": [
    "In Python, append() is a built-in method that is used to add an element to the end of a list. The syntax for using append() is as follows:"
   ]
  },
  {
   "cell_type": "code",
   "execution_count": 32,
   "metadata": {},
   "outputs": [
    {
     "name": "stdout",
     "output_type": "stream",
     "text": [
      "[1, 2, 3]\n"
     ]
    }
   ],
   "source": [
    "my_list = []\n",
    "my_list.append(1)\n",
    "my_list.append(2)\n",
    "my_list.append(3)\n",
    "print(my_list)"
   ]
  },
  {
   "attachments": {},
   "cell_type": "markdown",
   "metadata": {},
   "source": [
    "#  Dictionary Lesson / 2D Arrays\n",
    "\n",
    "## Lesson 2: Dictionary's and 2 Dimensional Arrays\n",
    "\n",
    "Advay Shindikar and Amay Advani\n",
    "\n",
    "# Objective:\n",
    "  - Understand the concept of dictionaries and how they can be applied\n",
    "  - Learn how to add, modify, and delete entries in a dictionary using the assignment operator and the del keyword\n",
    "  - Understand the concept of 2D arrays and how they can be used to store data in rows and columns\n",
    "  - Learn how to create a 2D array in Python using a nested list\n",
    "  - Understand how to access values in a 2D array using row and column indices\n",
    "  - Learn how to use indexing and slicing to access a subset of a 2D array\n",
    "\n",
    "\n",
    "-----\n",
    "\n",
    "\n",
    "````\n",
    "student = {'name': 'Advay', 'age': 16, 'Sophomore'}\n",
    "````\n",
    "\n",
    "````\n",
    "students = ['advay', 'amay', 'rohin', 'alex', 'ethan']\n",
    "````\n",
    "-----\n",
    "\n",
    "# Check In:\n",
    "\n",
    "- Of the above code segments, which is a list and which is a dictionary?\n",
    "student is a dictionary, students is a list\n",
    "- What is a dictionary and how is it used?\n",
    "a dictionary is a collection of unique keys each associated with a single value\n",
    "- What is a 2D Array?\n",
    "a 2d array is an array with arrays as entries\n",
    "- How are 2D Arrays different from 1D Arrays or Lists and what can they be used for?\n",
    "2d arrays are different from 1d arrays in that their entries are arrays rather than single values. they can be used for multi-dimensional data such as tables, images, framebuffers, etc.\n",
    "\n",
    "## Manipulating Dictionaries"
   ]
  },
  {
   "cell_type": "code",
   "execution_count": 3,
   "metadata": {},
   "outputs": [
    {
     "name": "stdout",
     "output_type": "stream",
     "text": [
      "Your grocery list:\n",
      "- piiza: $10.0\n",
      "- pasta: $6.0\n",
      "- ramen: $6\n",
      "Total cost: $0\n",
      "Item not found in grocery list!\n",
      "Your grocery list:\n",
      "- piiza: $10.0\n",
      "- pasta: $6.0\n",
      "- ramen: $6\n",
      "- pizza: $10.0\n",
      "Total cost: $10.0\n",
      "Final grocery list:\n",
      "- piiza: $10.0\n",
      "- pasta: $6.0\n",
      "- ramen: $6\n",
      "- pizza: $10.0\n",
      "Total cost: $10.0\n"
     ]
    }
   ],
   "source": [
    "grocery_dict = {\n",
    "    \"piiza\": 10,\n",
    "    \"pasta\": 20,\n",
    "    \"ramen\": 6\n",
    "}\n",
    "\n",
    "# ask the user to enter grocery items and their prices\n",
    "while True:\n",
    "    item = input(\"Enter an item for your grocery list (or 'done' to exit): \")\n",
    "    if item == \"done\":\n",
    "        break\n",
    "    else:\n",
    "        price = float(input(\"Enter the price of {}: \".format(item)))\n",
    "        grocery_dict[item] = price\n",
    "\n",
    "# print the grocery list and total cost\n",
    "total_cost = 0\n",
    "while True:\n",
    "    print(\"Your grocery list:\")\n",
    "    for item, price in grocery_dict.items():\n",
    "        print(\"- {}: ${}\".format(item, price))\n",
    "    print(\"Total cost: ${}\".format(total_cost))\n",
    "    \n",
    "    # ask the user to choose an action\n",
    "    action = input(\"What would you like to do? (add/remove/done) \")\n",
    "    \n",
    "    # add a new item to the grocery list\n",
    "    if action == \"add\":\n",
    "        item = input(\"Enter the name of the item you would like to add: \")\n",
    "        price = float(input(\"Enter the price of {}: \".format(item)))\n",
    "        grocery_dict[item] = price\n",
    "        total_cost += price\n",
    "    \n",
    "    # remove an item from the           j\n",
    "        item = input(\"Enter the name of the item you would like to remove: \")\n",
    "        if item in grocery_dict:\n",
    "            total_cost -= grocery_dict[item]\n",
    "            del grocery_dict[item]\n",
    "        else:\n",
    "            print(\"Item not found in grocery list!\")\n",
    "    \n",
    "    # exit the loop and print the final grocery list and total cost\n",
    "    elif action == \"done\":\n",
    "        break\n",
    "\n",
    "print(\"Final grocery list:\")\n",
    "for item, price in grocery_dict.items():\n",
    "    print(\"- {}: ${}\".format(item, price))\n",
    "print(\"Total cost: ${}\".format(total_cost))\n"
   ]
  },
  {
   "cell_type": "code",
   "execution_count": 2,
   "metadata": {},
   "outputs": [
    {
     "name": "stdout",
     "output_type": "stream",
     "text": [
      "Enter a key and value (both strings) to add to the dictionary. Type 'quit' to exit.\n",
      "╔═════════════╦═════════════╗\n",
      "║ Key         ║ Value       ║\n",
      "╠═════════════╬═════════════╣\n",
      "║ abc         ║ lol         ║\n",
      "╚═════════════╩═════════════╝\n",
      "Enter a key and value (both strings) to add to the dictionary. Type 'quit' to exit.\n",
      "╔═════════════╦═════════════╗\n",
      "║ Key         ║ Value       ║\n",
      "╠═════════════╬═════════════╣\n",
      "║ abc         ║ lol         ║\n",
      "║ amay        ║ monkey      ║\n",
      "╚═════════════╩═════════════╝\n",
      "Enter a key and value (both strings) to add to the dictionary. Type 'quit' to exit.\n",
      "╔═════════════╦═════════════╗\n",
      "║ Key         ║ Value       ║\n",
      "╠═════════════╬═════════════╣\n",
      "║ abc         ║ lol         ║\n",
      "║ amay        ║ monkey      ║\n",
      "║ good        ║ boy         ║\n",
      "╚═════════════╩═════════════╝\n",
      "Enter a key and value (both strings) to add to the dictionary. Type 'quit' to exit.\n"
     ]
    }
   ],
   "source": [
    "# Dictionary hacks\n",
    "\n",
    "def display_ascii_table(dictionary):\n",
    "    print(\"╔═════════════╦═════════════╗\")\n",
    "    print(\"║ Key         ║ Value       ║\")\n",
    "    print(\"╠═════════════╬═════════════╣\")\n",
    "    for key, value in dictionary.items():\n",
    "        print(f\"║ {key:<12}║ {value:<12}║\")\n",
    "    print(\"╚═════════════╩═════════════╝\")\n",
    "\n",
    "my_dictionary = {}\n",
    "\n",
    "while True:\n",
    "    print(\"Enter a key and value (both strings) to add to the dictionary. Type 'quit' to exit.\")\n",
    "    key = input(\"Key: \")\n",
    "    if key.lower() == 'quit':\n",
    "        break\n",
    "\n",
    "    value = input(\"Value: \")\n",
    "    if value.lower() == 'quit':\n",
    "        break\n",
    "\n",
    "    my_dictionary[key] = value\n",
    "    display_ascii_table(my_dictionary)\n"
   ]
  },
  {
   "cell_type": "code",
   "execution_count": 6,
   "metadata": {},
   "outputs": [
    {
     "data": {
      "image/png": "[encoded data removed]",
      "text/plain": [
       "<PIL.Image.Image image mode=RGB size=300x300 at 0x7F9E1B4FAC40>"
      ]
     },
     "metadata": {},
     "output_type": "display_data"
    }
   ],
   "source": [
    "import random\n",
    "from PIL import Image, ImageDraw, ImageFont\n",
    "\n",
    "def nd_array(n):\n",
    "    array = [[random.randint(0, 255) for _ in range(n)] for _ in range(n)]\n",
    "    return array\n",
    "\n",
    "def nd_array_draw(array):\n",
    "    cell_size = 50\n",
    "    width = height = len(array) * cell_size\n",
    "\n",
    "    image = Image.new(\"RGB\", (width, height), \"white\")\n",
    "    draw = ImageDraw.Draw(image)\n",
    "\n",
    "    for i, row in enumerate(array):\n",
    "        for j, value in enumerate(row):\n",
    "            x, y = j * cell_size, i * cell_size\n",
    "            draw.rectangle([x, y, x + cell_size, y + cell_size], fill=(value, value, value))\n",
    "            draw.text((x + cell_size // 2 - 8, y + cell_size // 2 - 8), f\"{value:0>3}\", fill=(255, 255, 255))\n",
    "\n",
    "    return image\n",
    "\n",
    "n = int(input(\"Enter the size of the 2D array: \"))\n",
    "array = nd_array(n)\n",
    "image = nd_array_draw(array)\n",
    "\n",
    "# Display the image\n",
    "display(image)\n",
    "\n"
   ]
  }
 ],
 "metadata": {
  "kernelspec": {
   "display_name": "Python 3",
   "language": "python",
   "name": "python3"
  },
  "language_info": {
   "codemirror_mode": {
    "name": "ipython",
    "version": 3
   },
   "file_extension": ".py",
   "mimetype": "text/x-python",
   "name": "python",
   "nbconvert_exporter": "python",
   "pygments_lexer": "ipython3",
   "version": "3.9.12"
  },
  "orig_nbformat": 4
 },
 "nbformat": 4,
 "nbformat_minor": 2
}

{
 "cells": [
  {
   "attachments": {},
   "cell_type": "markdown",
   "metadata": {},
   "source": [
    "# JavaScript Tutorial\n",
    "\n",
    "- layout: default\n",
    "- badges: false\n",
    "- permalink: /techtalk/javascript\n",
    "- categories: [1.A, 3.B, C4.0]\n",
    "- type: pbl\n",
    "- week: 33"
   ]
  },
  {
   "attachments": {},
   "cell_type": "markdown",
   "metadata": {},
   "source": [
    "## JavaScript and Jupyter references\n",
    "> JavaScript is the most important language you need to learn as a frontend developer.  Jupyter Notebooks is a convenient way to learn the language without the overhead of creating a full Website.  Jupyter Notebooks had ChatGPT plugins to assist with design and troubleshooting problems.  This Notebook has colors on HTML pages that were designed with a dark mode background.\n",
    "\n",
    "- JavaScript / Jupyter General References\n",
    "    - [W3Schools JS Reference](https://www.w3schools.com/js/)\n",
    "    - ChatGPT AI assistant for [Chrome/Jupyter](https://chrome.google.com/webstore/detail/chatgpt-jupyter-ai-assist/dlipncbkjmjjdpgcnodkbdobkadiejll) \n",
    "    - Theme setup for Jupyter [Article](https://linuxhint.com/change-theme-jupyter-notebook/).  Or do these commands from shell...\n",
    "        - Install pip: pip install jupyterthemes\n",
    "        - Revert to original theme: jt -r \n",
    "        - List themes: jt -l\n",
    "        - Install with Theme, Name, Logo: jt -t onedork -T -N -kl\n",
    "    - [Chrome Dev Tools](https://developer.chrome.com/docs/devtools/)\n",
    "\n",
    "- Coding with jQuery\n",
    "    - Jupyter Notebook [GitHub](https://github.com/nighthawkcoders/APCSP/blob/master/_notebooks/2022-09-19-PBL-javascript_tutorial.ipynb), wget: https://raw.githubusercontent.com/nighthawkcoders/APCSP/master/_notebooks/2022-09-19-PBL-javascript_tutorial.ipynb\n",
    "    - Markdown [Fetch example](https://nighthawkcoders.github.io/APCSP/frontend/jquery) in GitHub project for [APCSP](https://github.com/nighthawkcoders/APCSP/blob/master/_posts/2023-06-01-jquery-sort.md)\n",
    "    - HTML [Static example](https://flask.nighthawkcodingsociety.com/table/) in GitHub project for [flask_portfolio](https://github.com/nighthawkcoders/flask_portfolio/blob/main/templates/table.html)\n",
    " \n"
   ]
  },
  {
   "attachments": {},
   "cell_type": "markdown",
   "metadata": {},
   "source": [
    "### output using HTML and CSS\n",
    " Multiple cells are used to setup HTML in this lesson. Many of the JavaScript cells will use the output tag(s) to write into the HTML that has been setup.  \n",
    "- %%html is used to setup HTML code block\n",
    "- \"style\" tag enables visuals customization\n",
    "- \"div\" tag is setup to receive data"
   ]
  },
  {
   "cell_type": "code",
   "execution_count": 3,
   "metadata": {
    "vscode": {
     "languageId": "javascript"
    }
   },
   "outputs": [
    {
     "data": {
      "text/html": [
       "<html>\n",
       "    <head>\n",
       "        <style>\n",
       "            #output {\n",
       "                background-color: #ff66fd;\n",
       "                color: #123169;\n",
       "                padding: 10px;\n",
       "                border: 3px solid #000;\n",
       "            }\n",
       "        </style>\n",
       "    </head>\n",
       "    <body>\n",
       "        <div id=\"output\">\n",
       "            Hello!\n",
       "        </div>\n",
       "    </body>\n",
       "</html>\n"
      ],
      "text/plain": [
       "<IPython.core.display.HTML object>"
      ]
     },
     "metadata": {},
     "output_type": "display_data"
    }
   ],
   "source": [
    "%%html\n",
    "<html>\n",
    "    <head>\n",
    "        <style>\n",
    "            #output {\n",
    "                background-color: #ff66fd;\n",
    "                color: #123169;\n",
    "                padding: 10px;\n",
    "                border: 3px solid #000;\n",
    "            }\n",
    "        </style>\n",
    "    </head>\n",
    "    <body>\n",
    "        <div id=\"output\">\n",
    "            Hello!\n",
    "        </div>\n",
    "    </body>\n",
    "</html>"
   ]
  },
  {
   "attachments": {},
   "cell_type": "markdown",
   "metadata": {},
   "source": [
    "### output explored\n",
    "There are several ways to ouput the classic introduction message: \"Hello, World!\" \n",
    "- Before you go further, open Console on your Browser. <mark>JavaScript developer leaves Console open</mark> all the time!!!\n",
    "- The function <mark>element.append()</mark> outputs to Console, this is often used for inspection or debugging.\n",
    "- \"Hello, World\" is a String literal. This is the referred to as <mark>Static text</mark>, as it does not change.  Developer call this a <mark>hard coded string</mark>.\n",
    "- <mark>\"Hello, World\" literal is a parameter</mark> to element.append(), element.txt() and alert().\n",
    "- The element.txt function is part of <mark>Jupyter Notebook %%js magic</mark>.  This is convenient for Notebook and testing.\n",
    "- The <mark>alert command outputs the parameter to a dialog box</mark>, so you can see it in this Jupyter notebook. The alert commands are shown, but are commented out as the stop run all execution of the notebook.\n",
    "- Note, in a Web Application Debugging: An alert is often used for less savy Developers. Console is used by more savy developers; console often requires setting up a lot of outputs. Source level debugging is the most powerful solution for debugging and does not require alert or console commands."
   ]
  },
  {
   "cell_type": "code",
   "execution_count": 4,
   "metadata": {
    "vscode": {
     "languageId": "javascript"
    }
   },
   "outputs": [
    {
     "data": {
      "application/javascript": "console.log(\"hello\");\n\n// Browser Console output; debugging or tracing\nconsole.log(\"I  love mr mortensen\");\nconsole.log(\"CSP is godo class\");\n\n// Document Object Model (DOM) output; output to HTML, CSS which is standard for a Web Page\n// <mark>select element method</mark>: DOM native JavaScript get, document.getElementByID\ndocument.getElementById(\"output\").textContent = \"MONKEY MONKEY\";\n// <mark>jQuery CSS-style method</mark>: Tag for DOM selector, $('#output')\n$('#output').append('<br><b>MONKEY AGAIN!');  // br is break or new line, b is bold\n\n// Jupyter built in magic element for testing and convenience of development\nelement.text(\"HAHAHAHEEHEEHHEEHEEEAAAA\"); // element is output option as part of %%js magic\nelement.append('<br><b>BROoo!!!');\n\n//alert(\"Hello, World!\");\n",
      "text/plain": [
       "<IPython.core.display.Javascript object>"
      ]
     },
     "metadata": {},
     "output_type": "display_data"
    }
   ],
   "source": [
    "%%js // required to allow cell to be JavaScript enabled\n",
    "element.append(\"hello\");\n",
    "\n",
    "// Browser Console output; debugging or tracing\n",
    "element.append(\"I  love mr mortensen\");\n",
    "element.append(\"CSP is godo class\");\n",
    "\n",
    "// Document Object Model (DOM) output; output to HTML, CSS which is standard for a Web Page\n",
    "// <mark>select element method</mark>: DOM native JavaScript get, document.getElementByID\n",
    "document.getElementById(\"output\").textContent = \"MONKEY MONKEY\";\n",
    "// <mark>jQuery CSS-style method</mark>: Tag for DOM selector, $('#output')\n",
    "$('#output').append('<br><b>MONKEY AGAIN!');  // br is break or new line, b is bold\n",
    "\n",
    "// Jupyter built in magic element for testing and convenience of development\n",
    "element.text(\"HAHAHAHEEHEEHHEEHEEEAAAA\"); // element is output option as part of %%js magic\n",
    "element.append('<br><b>BROoo!!!');\n",
    "\n",
    "//alert(\"Hello, World!\");"
   ]
  },
  {
   "attachments": {},
   "cell_type": "markdown",
   "metadata": {},
   "source": [
    "### multiple outputs using one variable\n",
    "This second example is a new <mark>sequence of code</mark>, two or more lines of code forms a sequence.  This example defines a variable, thank goodness!!! In the previous example we were typing the string `\"Hello, World\" over and over`.  Observe with the variable `msg=\"Hello, World!\";` we type the string once and now use `msg` over and over.\n",
    "- The variable \"var msg =\" is used to capture the data\n",
    "- The console.log(msg) outputs to console, be sure to Inspect it!\n",
    "- The element.text() is part of Jupyter Notebooks and displays as output blow the code on this page. Until we build up some more interesting data for Web Site, we will not use be using the Python HTML, CSS technique.\n",
    "- The alert(msg) works the same as previous, but as the other commands uses msg as parameter."
   ]
  },
  {
   "cell_type": "code",
   "execution_count": 3,
   "metadata": {
    "vscode": {
     "languageId": "javascript"
    }
   },
   "outputs": [
    {
     "data": {
      "application/javascript": "console.log(\"Variable Definition\");\n\nvar msg = \"Hello, World!\";\n\n// Use msg to output code to Console and Jupyter Notebook\nconsole.log(msg);  //right click browser select Inspect, then select Console to view\nelement.text(msg);\n//alert(msg);\n",
      "text/plain": [
       "<IPython.core.display.Javascript object>"
      ]
     },
     "metadata": {},
     "output_type": "display_data"
    }
   ],
   "source": [
    "%%js\n",
    "console.log(\"Variable Definition\");\n",
    "\n",
    "var msg = \"I love definig variables\";\n",
    "\n",
    "// Use msg to output code to Console and Jupyter Notebook\n",
    "console.log(msg);  //right click browser select Inspect, then select Console to view\n",
    "element.text(msg);\n",
    "//alert(msg);\n"
   ]
  },
  {
   "attachments": {},
   "cell_type": "markdown",
   "metadata": {},
   "source": [
    "### output showing use of a function\n",
    "This example passes the defined variable \"msg\" to the newly defined \"function logIt(output)\".\n",
    "- There are multiple steps in this code..\n",
    "    - The \"definition of the function\": \"function logIt(output) {}\" and everything between curly braces is the definitions of the function. Passing a parameter is required when you call this function.\n",
    "    - The \"call to the function:\"logIt(msg)\" is the call to the function, this actually runs the function.  The variable \"msg\" is used a parameter when calling the logIt function.\n",
    "- Showing reuse of function...\n",
    "    - There are two calls to the logIt function\n",
    "    - This is called Prodedural Abstraction, a term that means reusing the same code"
   ]
  },
  {
   "cell_type": "code",
   "execution_count": 7,
   "metadata": {
    "vscode": {
     "languageId": "javascript"
    }
   },
   "outputs": [
    {
     "data": {
      "application/javascript": "console.log(\"Function Definition\");\n\n/*\n* @param {number} num1 - The first number to multiply.\n* @param {number} num2 - The second number to multiply.\n* @returns {number} The product of num1 and num2.\n*/\nfunction multiplyNumbers(num1, num2) {\n // Check if either num1 or num2 is not a number\n if (typeof num1 !== 'number' || typeof num2 !== 'number') {\n   throw new Error('Both inputs must be numbers');\n }\n\n // Perform the multiplication\n const product = num1 * num2;\n\n // Return the result\n return product;\n}\n\nconst result = multiplyNumbers(5, 3);\nelement.append(result); // Output: 15\n",
      "text/plain": [
       "<IPython.core.display.Javascript object>"
      ]
     },
     "metadata": {},
     "output_type": "display_data"
    }
   ],
   "source": [
    "%%js\n",
    "console.log(\"Function Definition\");\n",
    "\n",
    "/*\n",
    "* @param {number} num1 - The first number to multiply.\n",
    "* @param {number} num2 - The second number to multiply.\n",
    "* @returns {number} The product of num1 and num2.\n",
    "*/\n",
    "function multiplyNumbers(num1, num2) {\n",
    " // Check if either num1 or num2 is not a number\n",
    " if (typeof num1 !== 'number' || typeof num2 !== 'number') {\n",
    "   throw new Error('Both inputs must be numbers');\n",
    " }\n",
    "\n",
    " // Perform the multiplication\n",
    " const product = num1 * num2;\n",
    "\n",
    " // Return the result\n",
    " return product;\n",
    "}\n",
    "\n",
    "const result = multiplyNumbers(5, 3);\n",
    "element.append(result); // Output: 15\n"
   ]
  },
  {
   "attachments": {},
   "cell_type": "markdown",
   "metadata": {},
   "source": [
    "### output showing Loosely typed data\n",
    "<mark>JavaScript is a loosely typed language</mark>, meaning you don't have to specify what type of information will be stored in a variable in advance.  \n",
    "- To define a variable you prefix the name with <mark>var or const</mark>.   The variable type is determined by JavaScript at runtime.\n",
    "- Python and many interpretive languages are loosely typed like JavaScript.  This is considered programmer friendly.  \n",
    "- Java which is a compiled language is strongly typed, thus you will see terms like <mark>String, Integer, Double, and Object</mark> in the source code. \n",
    "- In JavaScript, the <mark>typeof keyword</mark> returns the type of the variable.  Become familiar with type as it is valuable in conversation and knowing type help you understand how to modify data.  Each variable type will have built in methods to manage content within the data type."
   ]
  },
  {
   "cell_type": "code",
   "execution_count": 8,
   "metadata": {
    "vscode": {
     "languageId": "javascript"
    }
   },
   "outputs": [
    {
     "data": {
      "application/javascript": "console.log(\"Examine Data Types\");\n\n/**\n * Displays the value and type of a variable.\n * @param {*} variable - The variable to display.\n */\nfunction displayVariable(variable) {\n    // Determine the type of the variable\n    const type = typeof variable;\n  \n    // Display the value and type of the variable\n    element.append('Value:', variable);\n    element.append('Type:', type);\n  \n    // Change behavior based on the type\n    switch (type) {\n      case 'number':\n        element.append('This is a number.');\n        // Additional actions specific to number type can be added here\n        break;\n  \n      case 'string':\n        element.append('This is a string.');\n        // Additional actions specific to string type can be added here\n        break;\n  \n      case 'boolean':\n        element.append('This is a boolean.');\n        // Additional actions specific to boolean type can be added here\n        break;\n  \n      case 'object':\n        if (Array.isArray(variable)) {\n          element.append('This is an array.');\n          // Additional actions specific to array type can be added here\n        } else if (variable === null) {\n          element.append('This is null.');\n          // Additional actions specific to null type can be added here\n        } else {\n          element.append('This is an object.');\n          // Additional actions specific to object type can be added here\n        }\n        break;\n  \n      case 'undefined':\n        element.append('This is undefined.');\n        // Additional actions specific to undefined type can be added here\n        break;\n  \n      case 'function':\n        element.append('This is a function.');\n        // Additional actions specific to function type can be added here\n        break;\n  \n      default:\n        element.append('Unknown type.');\n        // Additional actions for unknown types can be added here\n        break;\n    }\n  }\n  \n  const num = 42;\ndisplayVariable(num);\n\nconst str = 'Hello, world!';\ndisplayVariable(str);\n\nconst bool = true;\ndisplayVariable(bool);\n\nconst arr = [1, 2, 3];\ndisplayVariable(arr);\n\nconst obj = { name: 'John', age: 25 };\ndisplayVariable(obj);\n\nconst undef = undefined;\ndisplayVariable(undef);\n\nconst func = function () {\n  console.log('Hello from a function!');\n};\ndisplayVariable(func);\n",
      "text/plain": [
       "<IPython.core.display.Javascript object>"
      ]
     },
     "metadata": {},
     "output_type": "display_data"
    }
   ],
   "source": [
    "%%js\n",
    "console.log(\"Examine Data Types\");\n",
    "\n",
    "/**\n",
    " * Displays the value and type of a variable.\n",
    " * @param {*} variable - The variable to display.\n",
    " */\n",
    "function displayVariable(variable) {\n",
    "    // Determine the type of the variable\n",
    "    const type = typeof variable;\n",
    "  \n",
    "    // Display the value and type of the variable\n",
    "    element.append('Value:', variable);\n",
    "    element.append('Type:', type);\n",
    "  \n",
    "    // Change behavior based on the type\n",
    "    switch (type) {\n",
    "      case 'number':\n",
    "        element.append('This is a number.');\n",
    "        // Additional actions specific to number type can be added here\n",
    "        break;\n",
    "  \n",
    "      case 'string':\n",
    "        element.append('This is a string.');\n",
    "        // Additional actions specific to string type can be added here\n",
    "        break;\n",
    "  \n",
    "      case 'boolean':\n",
    "        element.append('This is a boolean.');\n",
    "        // Additional actions specific to boolean type can be added here\n",
    "        break;\n",
    "  \n",
    "      case 'object':\n",
    "        if (Array.isArray(variable)) {\n",
    "          element.append('This is an array.');\n",
    "          // Additional actions specific to array type can be added here\n",
    "        } else if (variable === null) {\n",
    "          element.append('This is null.');\n",
    "          // Additional actions specific to null type can be added here\n",
    "        } else {\n",
    "          element.append('This is an object.');\n",
    "          // Additional actions specific to object type can be added here\n",
    "        }\n",
    "        break;\n",
    "  \n",
    "      case 'undefined':\n",
    "        element.append('This is undefined.');\n",
    "        // Additional actions specific to undefined type can be added here\n",
    "        break;\n",
    "  \n",
    "      case 'function':\n",
    "        element.append('This is a function.');\n",
    "        // Additional actions specific to function type can be added here\n",
    "        break;\n",
    "  \n",
    "      default:\n",
    "        element.append('Unknown type.');\n",
    "        // Additional actions for unknown types can be added here\n",
    "        break;\n",
    "    }\n",
    "  }\n",
    "  \n",
    "  const num = 42;\n",
    "displayVariable(num);\n",
    "\n",
    "const str = 'Hello, world!';\n",
    "displayVariable(str);\n",
    "\n",
    "const bool = true;\n",
    "displayVariable(bool);\n",
    "\n",
    "const arr = [1, 2, 3];\n",
    "displayVariable(arr);\n",
    "\n",
    "const obj = { name: 'John', age: 25 };\n",
    "displayVariable(obj);\n",
    "\n",
    "const undef = undefined;\n",
    "displayVariable(undef);\n",
    "\n",
    "const func = function () {\n",
    "  console.log('Hello from a function!');\n",
    "};\n",
    "displayVariable(func);\n"
   ]
  },
  {
   "attachments": {},
   "cell_type": "markdown",
   "metadata": {},
   "source": [
    "### Build a Person object and JSON\n",
    "JavaScript and other languages have special properties and syntax to store and represent data.  In fact, a class in JavaScript is a special function.\n",
    "\n",
    "- <mark>Definition of class allows for a collection of data</mark>, the \"class Person\" allows programmer to retain name, github id, and class of a Person.\n",
    "- <mark>Instance of a class</mark>, the \"const teacher = new Person(\"Mr M\", \"jm1021\", 1977)\" makes an object \"teacher\" which is an object representation of \"class Person\".\n",
    "- <mark>Setting and Getting properties</mark> After creating teacher and student objects, observe that properties can be changed/muted or extracted/accessed."
   ]
  },
  {
   "cell_type": "code",
   "execution_count": 10,
   "metadata": {
    "vscode": {
     "languageId": "html"
    }
   },
   "outputs": [
    {
     "data": {
      "text/html": [
       "<!-- load jQuery and tablesorter scripts -->\n",
       "<html>\n",
       "    <head>\n",
       "        <!-- load jQuery and tablesorter scripts -->\n",
       "        <script src=\"https://ajax.googleapis.com/ajax/libs/jquery/3.6.0/jquery.min.js\"></script>\n",
       "        <script src=\"https://cdnjs.cloudflare.com/ajax/libs/jquery.tablesorter/2.31.3/js/jquery.tablesorter.min.js\"></script>\n",
       "        <style>\n",
       "            /* CSS-style selector maps to table id or other id's in HTML */\n",
       "            #jsonTable, #flaskTable {\n",
       "                background-color: #353b45;\n",
       "                padding: 10px;\n",
       "                border: 3px solid #ccc;\n",
       "                box-shadow: 0.8em 0.4em 0.4em grey;\n",
       "                color: #fff;\n",
       "            }\n",
       "        </style>\n",
       "    </head>\n",
       "\n",
       "    <body>\n",
       "        <!-- Table for writing and extracting jsonText -->\n",
       "        <table id=\"jsonTable\">\n",
       "            <thead>\n",
       "                <tr>\n",
       "                    <th>Classroom JSON Data</th>\n",
       "                </tr>\n",
       "            </thead>\n",
       "            <tbody>\n",
       "                <tr>\n",
       "                    <td id=\"jsonText\">{\n",
       "                        \"players\": [\n",
       "                          {\n",
       "                            \"name\": \"Roger Federer\",\n",
       "                            \"country\": \"Switzerland\",\n",
       "                            \"rank\": 8,\n",
       "                            \"age\": 40,\n",
       "                            \"titles\": [\n",
       "                              \"20 Grand Slam titles\",\n",
       "                              \"103 ATP singles titles\"\n",
       "                            ]\n",
       "                          },\n",
       "                          {\n",
       "                            \"name\": \"Rafael Nadal\",\n",
       "                            \"country\": \"Spain\",\n",
       "                            \"rank\": 3,\n",
       "                            \"age\": 35,\n",
       "                            \"titles\": [\n",
       "                              \"20 Grand Slam titles\",\n",
       "                              \"88 ATP singles titles\"\n",
       "                            ]\n",
       "                          },\n",
       "                          {\n",
       "                            \"name\": \"Novak Djokovic\",\n",
       "                            \"country\": \"Serbia\",\n",
       "                            \"rank\": 1,\n",
       "                            \"age\": 34,\n",
       "                            \"titles\": [\n",
       "                              \"20 Grand Slam titles\",\n",
       "                              \"85 ATP singles titles\"\n",
       "                            ]\n",
       "                          }\n",
       "                        ]\n",
       "                      }\n",
       "                      </td>\n",
       "                </tr>\n",
       "            </tbody>\n",
       "        </table>\n",
       "\n",
       "    </body>\n",
       "</html>\n"
      ],
      "text/plain": [
       "<IPython.core.display.HTML object>"
      ]
     },
     "metadata": {},
     "output_type": "display_data"
    }
   ],
   "source": [
    "%%html\n",
    "<!-- load jQuery and tablesorter scripts -->\n",
    "<html>\n",
    "    <head>\n",
    "        <!-- load jQuery and tablesorter scripts -->\n",
    "        <script src=\"https://ajax.googleapis.com/ajax/libs/jquery/3.6.0/jquery.min.js\"></script>\n",
    "        <script src=\"https://cdnjs.cloudflare.com/ajax/libs/jquery.tablesorter/2.31.3/js/jquery.tablesorter.min.js\"></script>\n",
    "        <style>\n",
    "            /* CSS-style selector maps to table id or other id's in HTML */\n",
    "            #jsonTable, #flaskTable {\n",
    "                background-color: #353b45;\n",
    "                padding: 10px;\n",
    "                border: 3px solid #ccc;\n",
    "                box-shadow: 0.8em 0.4em 0.4em grey;\n",
    "                color: #fff;\n",
    "            }\n",
    "        </style>\n",
    "    </head>\n",
    "\n",
    "    <body>\n",
    "        <!-- Table for writing and extracting jsonText -->\n",
    "        <table id=\"jsonTable\">\n",
    "            <thead>\n",
    "                <tr>\n",
    "                    <th>Classroom JSON Data</th>\n",
    "                </tr>\n",
    "            </thead>\n",
    "            <tbody>\n",
    "                <tr>\n",
    "                    <td id=\"jsonText\">{\n",
    "                        \"players\": [\n",
    "                          {\n",
    "                            \"name\": \"Roger Federer\",\n",
    "                            \"country\": \"Switzerland\",\n",
    "                            \"rank\": 8,\n",
    "                            \"age\": 40,\n",
    "                            \"titles\": [\n",
    "                              \"20 Grand Slam titles\",\n",
    "                              \"103 ATP singles titles\"\n",
    "                            ]\n",
    "                          },\n",
    "                          {\n",
    "                            \"name\": \"Rafael Nadal\",\n",
    "                            \"country\": \"Spain\",\n",
    "                            \"rank\": 3,\n",
    "                            \"age\": 35,\n",
    "                            \"titles\": [\n",
    "                              \"20 Grand Slam titles\",\n",
    "                              \"88 ATP singles titles\"\n",
    "                            ]\n",
    "                          },\n",
    "                          {\n",
    "                            \"name\": \"Novak Djokovic\",\n",
    "                            \"country\": \"Serbia\",\n",
    "                            \"rank\": 1,\n",
    "                            \"age\": 34,\n",
    "                            \"titles\": [\n",
    "                              \"20 Grand Slam titles\",\n",
    "                              \"85 ATP singles titles\"\n",
    "                            ]\n",
    "                          }\n",
    "                        ]\n",
    "                      }\n",
    "                      </td>\n",
    "                </tr>\n",
    "            </tbody>\n",
    "        </table>\n",
    "\n",
    "    </body>\n",
    "</html>"
   ]
  },
  {
   "cell_type": "code",
   "execution_count": 9,
   "metadata": {
    "vscode": {
     "languageId": "javascript"
    }
   },
   "outputs": [
    {
     "data": {
      "application/javascript": "class Player {\n  constructor(name, country, rank, age, titles) {\n    this.name = name;\n    this.country = country;\n    this.rank = rank;\n    this.age = age;\n    this.titles = titles;\n  }\n\n  getJSON() {\n    const obj = {\n      name: this.name,\n      country: this.country,\n      rank: this.rank,\n      age: this.age,\n      titles: this.titles\n    };\n    const json = JSON.stringify(obj);\n    return json;\n  }\n\n  logIt() {\n    console.info(this);\n    element.append(this.getJSON());\n  }\n}\n\n// Example usage:\nconst playerData = {\n  name: \"Roger Federer\",\n  country: \"Switzerland\",\n  rank: 8,\n  age: 40,\n  titles: [\n    \"20 Grand Slam titles\",\n    \"103 ATP singles titles\"\n  ]\n};\n\nconst player = new Player(\n  playerData.name,\n  playerData.country,\n  playerData.rank,\n  playerData.age,\n  playerData.titles\n);\n\nplayer.logIt();\n",
      "text/plain": [
       "<IPython.core.display.Javascript object>"
      ]
     },
     "metadata": {},
     "output_type": "display_data"
    }
   ],
   "source": [
    "%%js\n",
    "class Player {\n",
    "  constructor(name, country, rank, age, titles) {\n",
    "    this.name = name;\n",
    "    this.country = country;\n",
    "    this.rank = rank;\n",
    "    this.age = age;\n",
    "    this.titles = titles;\n",
    "  }\n",
    "\n",
    "  getJSON() {\n",
    "    const obj = {\n",
    "      name: this.name,\n",
    "      country: this.country,\n",
    "      rank: this.rank,\n",
    "      age: this.age,\n",
    "      titles: this.titles\n",
    "    };\n",
    "    const json = JSON.stringify(obj);\n",
    "    return json;\n",
    "  }\n",
    "\n",
    "  logIt() {\n",
    "    console.info(this);\n",
    "    element.append(this.getJSON());\n",
    "  }\n",
    "}\n",
    "\n",
    "// Example usage:\n",
    "const playerData = {\n",
    "  name: \"Roger Federer\",\n",
    "  country: \"Switzerland\",\n",
    "  rank: 8,\n",
    "  age: 40,\n",
    "  titles: [\n",
    "    \"20 Grand Slam titles\",\n",
    "    \"103 ATP singles titles\"\n",
    "  ]\n",
    "};\n",
    "\n",
    "const player = new Player(\n",
    "  playerData.name,\n",
    "  playerData.country,\n",
    "  playerData.rank,\n",
    "  playerData.age,\n",
    "  playerData.titles\n",
    ");\n",
    "\n",
    "player.logIt();\n"
   ]
  },
  {
   "cell_type": "code",
   "execution_count": 12,
   "metadata": {
    "scrolled": false,
    "vscode": {
     "languageId": "html"
    }
   },
   "outputs": [
    {
     "data": {
      "text/html": [
       "<head>\n",
       "    <!-- load jQuery and DataTables syle and scripts -->\n",
       "    <link rel=\"stylesheet\" type=\"text/css\" href=\"https://cdn.datatables.net/1.10.25/css/jquery.dataTables.min.css\">\n",
       "    <script type=\"text/javascript\" language=\"javascript\" src=\"https://code.jquery.com/jquery-3.6.0.min.js\"></script>\n",
       "    <script type=\"text/javascript\" language=\"javascript\" src=\"https://cdn.datatables.net/1.10.25/js/jquery.dataTables.min.js\"></script>\n",
       "</head>\n",
       "<table id=\"flaskTable\" class=\"table\" style=\"width:100%\">\n",
       "    <thead id=\"flaskHead\">\n",
       "    </thead>\n",
       "    <tbody id=\"flaskBody\"></tbody>\n",
       "</table>\n",
       "\n",
       "<script>\n",
       "  $(document).ready(() => {\n",
       "// Example data\n",
       "const players = [\n",
       "  new Player(\"Roger Federer\", \"Switzerland\", 8, 40, [\"20 Grand Slam titles\", \"103 ATP singles titles\"]),\n",
       "  new Player(\"Rafael Nadal\", \"Spain\", 3, 35, [\"20 Grand Slam titles\", \"88 ATP singles titles\"]),\n",
       "  new Player(\"Novak Djokovic\", \"Serbia\", 1, 34, [\"20 Grand Slam titles\", \"85 ATP singles titles\"])\n",
       "];\n",
       "\n",
       "// Get the table body element\n",
       "const tableBody = document.getElementById(\"flaskBody\");\n",
       "\n",
       "// Function to populate the table\n",
       "function populateTable(data) {\n",
       "  // Clear any existing rows\n",
       "  tableBody.innerHTML = \"\";\n",
       "\n",
       "  // Create a row for each player\n",
       "  data.forEach(player => {\n",
       "    const row = document.createElement(\"tr\");\n",
       "    row.innerHTML = `<td>${player.name}</td><td>${player.country}</td><td>${player.rank}</td><td>${player.age}</td>`;\n",
       "    tableBody.appendChild(row);\n",
       "  });\n",
       "}\n",
       "\n",
       "// Call the function with the player data to populate the table\n",
       "populateTable(players);\n",
       "})\n",
       "</script>\n"
      ],
      "text/plain": [
       "<IPython.core.display.HTML object>"
      ]
     },
     "metadata": {},
     "output_type": "display_data"
    }
   ],
   "source": [
    "%%html\n",
    "<head>\n",
    "    <!-- load jQuery and DataTables syle and scripts -->\n",
    "    <link rel=\"stylesheet\" type=\"text/css\" href=\"https://cdn.datatables.net/1.10.25/css/jquery.dataTables.min.css\">\n",
    "    <script type=\"text/javascript\" language=\"javascript\" src=\"https://code.jquery.com/jquery-3.6.0.min.js\"></script>\n",
    "    <script type=\"text/javascript\" language=\"javascript\" src=\"https://cdn.datatables.net/1.10.25/js/jquery.dataTables.min.js\"></script>\n",
    "</head>\n",
    "<table id=\"flaskTable\" class=\"table\" style=\"width:100%\">\n",
    "    <thead id=\"flaskHead\">\n",
    "    </thead>\n",
    "    <tbody id=\"flaskBody\"></tbody>\n",
    "</table>\n",
    "\n",
    "<script>\n",
    "  $(document).ready(() => {\n",
    "// Example data\n",
    "const players = [\n",
    "  new Player(\"Roger Federer\", \"Switzerland\", 8, 40, [\"20 Grand Slam titles\", \"103 ATP singles titles\"]),\n",
    "  new Player(\"Rafael Nadal\", \"Spain\", 3, 35, [\"20 Grand Slam titles\", \"88 ATP singles titles\"]),\n",
    "  new Player(\"Novak Djokovic\", \"Serbia\", 1, 34, [\"20 Grand Slam titles\", \"85 ATP singles titles\"])\n",
    "];\n",
    "\n",
    "// Get the table body element\n",
    "const tableBody = document.getElementById(\"flaskBody\");\n",
    "\n",
    "// Function to populate the table\n",
    "function populateTable(data) {\n",
    "  // Clear any existing rows\n",
    "  tableBody.innerHTML = \"\";\n",
    "\n",
    "  // Create a row for each player\n",
    "  data.forEach(player => {\n",
    "    const row = document.createElement(\"tr\");\n",
    "    row.innerHTML = `<td>${player.name}</td><td>${player.country}</td><td>${player.rank}</td><td>${player.age}</td>`;\n",
    "    tableBody.appendChild(row);\n",
    "  });\n",
    "}\n",
    "\n",
    "// Call the function with the player data to populate the table\n",
    "populateTable(players);\n",
    "})\n",
    "</script>"
   ]
  },
  {
   "attachments": {},
   "cell_type": "markdown",
   "metadata": {},
   "source": [
    "## Hacks\n",
    "> One key to these hacks is to build confidence with me going into final grade, I would like to see each student adapt this frontend work in their final project.  Second key is the finished work can serve as review for the course, notes for the future in relationship to frontend.\n",
    "- Adapt this tutorial to your own work\n",
    "- Consider what you need to work on to be stronger developer\n",
    "- Show something creative or unique, no cloning\n",
    "- Be ready to talk to Teacher for 5 to 10 minutes. Individually!!!\n",
    "- Show in Jupyter Notebook during discussion, show Theme and ChatGPT\n",
    "- Have a runtime final in GithHub Pages (or Fastpage)"
   ]
  }
 ],
 "metadata": {
  "kernelspec": {
   "display_name": "Python 3 (ipykernel)",
   "language": "python",
   "name": "python3"
  },
  "language_info": {
   "codemirror_mode": {
    "name": "ipython",
    "version": 3
   },
   "file_extension": ".py",
   "mimetype": "text/x-python",
   "name": "python",
   "nbconvert_exporter": "python",
   "pygments_lexer": "ipython3",
   "version": "3.9.12"
  }
 },
 "nbformat": 4,
 "nbformat_minor": 2
}

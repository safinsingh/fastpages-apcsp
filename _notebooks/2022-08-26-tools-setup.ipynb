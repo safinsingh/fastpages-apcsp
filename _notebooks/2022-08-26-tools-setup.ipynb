{
 "cells": [
  {
   "cell_type": "markdown",
   "metadata": {},
   "source": [
    "# Bash tools setup\n",
    "\n",
    "- toc: true \n",
    "- badges: true\n",
    "- comments: true\n",
    "- categories: [jupyter]\n",
    "- image: images/chart-preview.png"
   ]
  },
  {
   "cell_type": "markdown",
   "metadata": {},
   "source": [
    "# Ensure that your tools are installed with Bash"
   ]
  },
  {
   "cell_type": "code",
   "execution_count": 12,
   "metadata": {
    "vscode": {
     "languageId": "shellscript"
    }
   },
   "outputs": [
    {
     "name": "stdout",
     "output_type": "stream",
     "text": [
      "Checking if conda is installed...\n",
      "conda 4.13.0\n",
      "Success! conda is installed.\n",
      "\n",
      "Checking if jupyter is installed...\n",
      "jupyter                   1.0.0            py39h06a4308_7  \n",
      "Success! jupyter is installed.\n",
      "\n",
      "Checking if the bash Jupyter kernel is installed...\n",
      "  bash          /home/user/.local/share/jupyter/kernels/bash\n",
      "Success! the bash Jupyter kernel is installed.\n",
      "\n",
      "Checking if the javascript Jupyter kernel is installed...\n",
      "  javascript    /home/user/.local/share/jupyter/kernels/javascript\n",
      "Success! the javascript Jupyter kernel is installed.\n",
      "\n",
      "Checking if the python Jupyter kernel is installed...\n",
      "  python3       /home/user/anaconda3/share/jupyter/kernels/python3\n",
      "Success! the python Jupyter kernel is installed.\n",
      "\n"
     ]
    }
   ],
   "source": [
    "#!/bin/bash\n",
    "\n",
    "checkTool() {\n",
    "    echo \"Checking if $1 is installed...\"\n",
    "    # evaluate check command and check its exit code\n",
    "    if eval \"$2\"; then\n",
    "        echo \"Success! $1 is installed.\"\n",
    "    else\n",
    "        echo \"Error: $1 is not installed properly!\"\n",
    "    fi\n",
    "    echo\n",
    "}\n",
    "\n",
    "checkKernel() {\n",
    "    echo \"Checking if the $1 Jupyter kernel is installed...\"\n",
    "    # check if kernel is listed in current kernelspec\n",
    "    if jupyter kernelspec list | grep --color=never \"$1\"; then\n",
    "        echo \"Success! the $1 Jupyter kernel is installed.\"\n",
    "    else\n",
    "        echo \"Error: the $1 Jupyter kernel is not installed properly!\"\n",
    "    fi\n",
    "    echo\n",
    "}\n",
    "\n",
    "checkTool \"conda\"   \"conda --version\"\n",
    "checkTool \"jupyter\" \"conda list | grep jupyter | head -n 1\"\n",
    "\n",
    "checkKernel \"bash\"\n",
    "checkKernel \"javascript\"\n",
    "checkKernel \"python\"\n"
   ]
  },
  {
   "cell_type": "markdown",
   "metadata": {},
   "source": [
    "# Updating a repository with Bash"
   ]
  },
  {
   "cell_type": "code",
   "execution_count": null,
   "metadata": {
    "vscode": {
     "languageId": "shellscript"
    }
   },
   "outputs": [],
   "source": [
    "#!/bin/bash\n",
    "\n",
    "# change into a git-initialized directory\n",
    "cd /home/user/projects/apcsp || exit\n",
    "\n",
    "# pull from remote\n",
    "git pull\n",
    "\n",
    "# stage files for comitting\n",
    "git add .\n",
    "\n",
    "# commit with a message\n",
    "git commit -m \"feat: added stuff\"\n",
    "\n",
    "# push changes to remote origin on branch master\n",
    "git push origin master"
   ]
  },
  {
   "cell_type": "markdown",
   "metadata": {},
   "source": [
    "# Automating Jupyter & Jupyter kernel installation"
   ]
  },
  {
   "cell_type": "code",
   "execution_count": null,
   "metadata": {
    "vscode": {
     "languageId": "shellscript"
    }
   },
   "outputs": [],
   "source": [
    "#!/bin/bash\n",
    "\n",
    "failedto() {\n",
    "    echo \"Failed to $1. Please manually debug any errors printed to STDERR.\"\n",
    "    exit\n",
    "}\n",
    "\n",
    "if ! jupyter &>/dev/null; then\n",
    "    failedto \"ensure that Jupyter was installed\"\n",
    "fi\n",
    "\n",
    "{\n",
    "    echo \"Installing Jupyter bash kernel...\"\n",
    "    pip install bash_kernel\n",
    "    python -m bash_kernel.install\n",
    "} || failedto \"install bash kernel\"\n",
    "\n",
    "{\n",
    "    echo \"Installing Jupyter node kernel...\"\n",
    "    npm install --global ijavascript\n",
    "    ijsinstall\n",
    "} || failedto \"install node kernel\"\n",
    "\n",
    "echo \"Both the bash and javascript (via NodeJS) kernels have been installed!\""
   ]
  }
 ],
 "metadata": {
  "kernelspec": {
   "display_name": "Bash",
   "language": "bash",
   "name": "bash"
  },
  "language_info": {
   "codemirror_mode": "shell",
   "file_extension": ".sh",
   "mimetype": "text/x-sh",
   "name": "bash"
  },
  "orig_nbformat": 4
 },
 "nbformat": 4,
 "nbformat_minor": 2
}

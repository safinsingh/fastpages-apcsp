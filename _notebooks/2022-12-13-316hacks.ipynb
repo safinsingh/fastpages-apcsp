{
 "cells": [
  {
   "attachments": {},
   "cell_type": "markdown",
   "metadata": {},
   "source": [
    "# Unit 3.16 Hacks\n",
    "\n",
    "- toc: true\n",
    "- badges: true\n",
    "- comments: true\n",
    "- categories: [jupyter]"
   ]
  },
  {
   "attachments": {},
   "cell_type": "markdown",
   "metadata": {},
   "source": [
    "# Hack 1\n",
    "\n",
    "Idea for a simulation: a platformer game that uses real physics to account for the movement of the character. Uses arrow keys for control and implements friction, gravity, and restitution forces/constants. An advantage of this simulation is that it lets us model real-life physical interactions with precision. I think a computer-generated simulation would be better in this case because it can be used for much more complex models/masses and tested multiple times."
   ]
  },
  {
   "attachments": {},
   "cell_type": "markdown",
   "metadata": {},
   "source": [
    "# Hack 2"
   ]
  },
  {
   "cell_type": "code",
   "execution_count": 1,
   "metadata": {},
   "outputs": [
    {
     "name": "stdout",
     "output_type": "stream",
     "text": [
      "Welcome to the Simulations Quiz!\n",
      "\n",
      " True or False: Simulations will always have the same result. \n",
      " A: True, \n",
      " B: False\n",
      "You said:  B\n",
      "Correct!\n",
      "\n",
      " True or False: A simulation has results that are more accurate than an experiment \n",
      " A: True, \n",
      " B: False\n",
      "You said:  B\n",
      "Correct!\n",
      "\n",
      " True or False: A simulation can model real world events that are not practical for experiments \n",
      " A: True, \n",
      " B: False\n",
      "You said:  A\n",
      "Correct!\n",
      "\n",
      " Which one of these is FALSE regarding simulations \n",
      " A: Reduces Costs, \n",
      " B: Is safer than real life experiments, \n",
      " C: More Efficient, \n",
      " D: More accurate than real life experiments\n",
      "You said:  D\n",
      "Correct!\n",
      "\n",
      " Which of the following scenarios would be the LEAST beneficial to have as a simulation \n",
      " A: A retail company wants to identify the item which sold the most on their website, \n",
      " B: A restaurant wants to determine if the use of robots will increase efficiency, \n",
      " C: An insurance company wants to study the impact of rain on car accidents, \n",
      " D: A sports car company wants to study design changes to their new bike design \n",
      "You said:  A\n",
      "Correct!\n",
      "\n",
      " Which of the following is better to do as a simulation than as a calculation \n",
      " A: Keeping score at a basketball game, \n",
      " B: Keeping track of how many games a person has won, \n",
      " C: Determining the average grade for a group of tests, \n",
      " D: Studying the impact of carbon emissions on the environment\n",
      "You said:  D\n",
      "Correct!\n",
      "You scored:  6 /6\n"
     ]
    }
   ],
   "source": [
    "questions_number = 6\n",
    "answers_correct = 0\n",
    "questions = [\n",
    "    \"True or False: Simulations will always have the same result. \\n A: True, \\n B: False\",\n",
    "    \"True or False: A simulation has results that are more accurate than an experiment \\n A: True, \\n B: False\",\n",
    "    \"True or False: A simulation can model real world events that are not practical for experiments \\n A: True, \\n B: False\",\n",
    "    \"Which one of these is FALSE regarding simulations \\n A: Reduces Costs, \\n B: Is safer than real life experiments, \\n C: More Efficient, \\n D: More accurate than real life experiments\",\n",
    "    \"Which of the following scenarios would be the LEAST beneficial to have as a simulation \\n A: A retail company wants to identify the item which sold the most on their website, \\n B: A restaurant wants to determine if the use of robots will increase efficiency, \\n C: An insurance company wants to study the impact of rain on car accidents, \\n D: A sports car company wants to study design changes to their new bike design \",\n",
    "    \"Which of the following is better to do as a simulation than as a calculation \\n A: Keeping score at a basketball game, \\n B: Keeping track of how many games a person has won, \\n C: Determining the average grade for a group of tests, \\n D: Studying the impact of carbon emissions on the environment\"\n",
    "]\n",
    "question_answers = [\n",
    "    \"B\",\n",
    "    \"B\",\n",
    "    \"A\",\n",
    "    \"D\",\n",
    "    \"A\",\n",
    "    \"D\"\n",
    "]\n",
    "\n",
    "print(\"Welcome to the Simulations Quiz!\")\n",
    "\n",
    "def ask_question (question, answer):\n",
    "    print(\"\\n\", question)\n",
    "    user_answer = input(question)\n",
    "    print(\"You said: \", user_answer)\n",
    "\n",
    "    if user_answer == answer:\n",
    "        print(\"Correct!\")\n",
    "        global answers_correct\n",
    "        answers_correct = answers_correct + 1\n",
    "    else:\n",
    "        print(\"You are incorrect\")\n",
    "    \n",
    "for num in range(questions_number):\n",
    "    ask_question(questions[num], question_answers[num])\n",
    "\n",
    "print(\"You scored: \", answers_correct, \"/6\")"
   ]
  },
  {
   "attachments": {},
   "cell_type": "markdown",
   "metadata": {},
   "source": [
    "# Hack 3\n",
    "\n",
    "The rolling dice example is a simulation because the number is programatically generated and no dice is truly rolled. The builtin pseudorandom number generator uses the computer's current precise time to generate a number between 0 and 1. This number is then multiplied/shifted by a constant to account for the range. This allows the \"dice\" to be rolled multiple times. An advantage of this simulation is that many trials (millions-billions) can be simulated and analytics can be performed immediately rather than physically gathering data and then performing statistics on it. An experiment would not be better in this situation because of the aforementioned advantages that the computer simulation provides.\n",
    "\n",
    "# Hack 4"
   ]
  },
  {
   "cell_type": "code",
   "execution_count": 22,
   "metadata": {},
   "outputs": [
    {
     "name": "stdout",
     "output_type": "stream",
     "text": [
      "chance of rolling  8: 6682/100000\n",
      "chance of rolling 14: 6810/100000\n",
      "chance of rolling  7: 6697/100000\n",
      "chance of rolling  4: 6706/100000\n",
      "chance of rolling 10: 6650/100000\n",
      "chance of rolling  2: 6608/100000\n",
      "chance of rolling  1: 6721/100000\n",
      "chance of rolling 15: 6541/100000\n",
      "chance of rolling 11: 6651/100000\n",
      "chance of rolling 12: 6624/100000\n",
      "chance of rolling  5: 6557/100000\n",
      "chance of rolling  9: 6683/100000\n",
      "chance of rolling  3: 6679/100000\n",
      "chance of rolling 13: 6777/100000\n",
      "chance of rolling  6: 6614/100000\n"
     ]
    }
   ],
   "source": [
    "# construct an n-sided die and determine the average weights of each side in 100000 trials\n",
    "import random\n",
    "\n",
    "trials = 100000\n",
    "sides = int(input(\"how many sides do you want the dice to have? \"))\n",
    "\n",
    "rolls = {}\n",
    "for _ in range(trials):\n",
    "    roll = str(random.randint(1, sides))\n",
    "    if roll in rolls.keys():\n",
    "        rolls[roll] += 1\n",
    "    else:\n",
    "        rolls[roll] = 1\n",
    "\n",
    "for (roll, weight) in rolls.items():\n",
    "    print(\"chance of rolling\", roll.rjust(len(str(sides))) + \": \" + str(weight) + \"/\" + str(trials))"
   ]
  },
  {
   "attachments": {},
   "cell_type": "markdown",
   "metadata": {},
   "source": [
    "# Extra Credit\n",
    "\n",
    "I implemented the platformer game described in Hack #1. It is implemented in JavaScript and uses real physics to determine the position of the character. Here's the link to the [code](https://github.com/safinsingh/platformer) and [website](https://safinsingh.github.io/platformer/)"
   ]
  }
 ],
 "metadata": {
  "kernelspec": {
   "display_name": "base",
   "language": "python",
   "name": "python3"
  },
  "language_info": {
   "codemirror_mode": {
    "name": "ipython",
    "version": 3
   },
   "file_extension": ".py",
   "mimetype": "text/x-python",
   "name": "python",
   "nbconvert_exporter": "python",
   "pygments_lexer": "ipython3",
   "version": "3.9.12"
  },
  "orig_nbformat": 4,
  "vscode": {
   "interpreter": {
    "hash": "1448b48b023bcc9c3d4a79e814720a10ca6d4244f75e0f7ce4af58f96ba2b7d3"
   }
  }
 },
 "nbformat": 4,
 "nbformat_minor": 2
}

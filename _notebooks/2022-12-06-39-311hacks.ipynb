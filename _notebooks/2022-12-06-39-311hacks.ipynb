{
 "cells": [
  {
   "cell_type": "markdown",
   "metadata": {},
   "source": [
    "# 3.9/3.11 Hacks\n",
    "\n",
    "- toc: true\n",
    "- badges: true\n",
    "- comments: true\n",
    "- categories: [jupyter]"
   ]
  },
  {
   "cell_type": "markdown",
   "metadata": {},
   "source": [
    "3 Components of an algorithm: Selection, Sequence, Iteration"
   ]
  },
  {
   "attachments": {},
   "cell_type": "markdown",
   "metadata": {},
   "source": [
    "# 3.9.1\n",
    "\n",
    "1. It's important to know that similar-looking algorithms have different results because there may be small differences that greatly alter its logic. For example, the usage of a certain mathematical operator rather than another can be enough to produce a completely different return value."
   ]
  },
  {
   "cell_type": "code",
   "execution_count": 2,
   "metadata": {},
   "outputs": [
    {
     "name": "stdout",
     "output_type": "stream",
     "text": [
      "oh no! i don't have enough money\n",
      "great! i have more than enough money\n"
     ]
    }
   ],
   "source": [
    "# converting conditional statement to variable containing conditional expression\n",
    "\n",
    "pizzaPrice = 10\n",
    "money = 9\n",
    "\n",
    "if pizzaPrice < money:\n",
    "    print(\"great! i have more than enough money\")\n",
    "elif pizzaPrice > money:\n",
    "    print(\"oh no! i don't have enough money\")\n",
    "else:\n",
    "    print(\"phew! i have just enough money\")\n",
    "\n",
    "## TO ##\n",
    "\n",
    "money = 11\n",
    "\n",
    "hasEnough = pizzaPrice < money\n",
    "hasNotEnough = not hasEnough\n",
    "\n",
    "if hasEnough:\n",
    "    print(\"great! i have more than enough money\")\n",
    "elif hasNotEnough:\n",
    "    print(\"oh no! i don't have enough money\")\n",
    "else:\n",
    "    print(\"phew! i have just enough money\")"
   ]
  },
  {
   "attachments": {},
   "cell_type": "markdown",
   "metadata": {},
   "source": [
    "# 3.9.2\n",
    "\n",
    "Algorithm: make a PB & J sandwich\n",
    "\n",
    "![](https://i.ibb.co/r26WPgR/flow.png)\n",
    "\n",
    "1. If hungry, make a sandwich\n",
    "2. Find bread. If there is, go to step 4.\n",
    "3. If there is no bread, buy bread. Return to step 2.\n",
    "4. Find PB & J. If there is, go to step 6.\n",
    "5. If there is no PB & J, go to buy PB & J. Return to step 4.\n",
    "6. Make sandwich with PB & J and bread.\n",
    "7. Eat sandwich. No longer hungry. Return to step 1."
   ]
  },
  {
   "cell_type": "code",
   "execution_count": 3,
   "metadata": {},
   "outputs": [
    {
     "name": "stdout",
     "output_type": "stream",
     "text": [
      "bought pbj\n",
      "yum\n"
     ]
    }
   ],
   "source": [
    "hungry = True\n",
    "bread = True\n",
    "pbj = False\n",
    "\n",
    "def buy_bread():\n",
    "    global bread\n",
    "    bread = True\n",
    "    print(\"bought bread\")\n",
    "\n",
    "def buy_pbj():\n",
    "    global pbj\n",
    "    pbj = True\n",
    "    print(\"bought pbj\")\n",
    "\n",
    "def make_sandwich(): \n",
    "    global hungry\n",
    "    hungry = False\n",
    "    print(\"yum\")\n",
    "\n",
    "while hungry:\n",
    "    if bread:\n",
    "        if pbj:\n",
    "            make_sandwich()\n",
    "        else:\n",
    "            buy_pbj()\n",
    "    else:\n",
    "        buy_bread()"
   ]
  },
  {
   "attachments": {},
   "cell_type": "markdown",
   "metadata": {},
   "source": [
    "# 3.9.3\n",
    "\n",
    "Number guesser flowchart:\n",
    "![](https://ibb.co/V24KxFc)"
   ]
  },
  {
   "cell_type": "code",
   "execution_count": null,
   "metadata": {},
   "outputs": [],
   "source": [
    "import random\n",
    "\n",
    "#sets variables for the game\n",
    "num_guesses = 0\n",
    "user_guess = 0\n",
    "upper_bound = 100\n",
    "lower_bound = 0\n",
    "\n",
    "#generates a random number\n",
    "number = random.randint(1,100)\n",
    "\n",
    "# print(number)     #for testing purposes\n",
    "\n",
    "print(f\"I'm thinking of a number between 1 and 100.\")\n",
    "\n",
    "#Write a function that gets a guess from the user using input()\n",
    "def guess():\n",
    "    num = input(\"Guess a number! \")\n",
    "    return int(num)\n",
    "\n",
    "#Change the print statements to give feedback on whether the player guessed too high or too low\n",
    "def search(number, guess):\n",
    "    global lower_bound, upper_bound\n",
    "    if guess < number:\n",
    "        print(\"Nice try! too low\") #change this\n",
    "        lower_bound = guess\n",
    "    elif guess > number:\n",
    "        print(\"Nice try! too high\") #change this\n",
    "        upper_bound = guess\n",
    "    return lower_bound, upper_bound\n",
    "\n",
    "while user_guess != number:\n",
    "    user_guess = guess()\n",
    "    num_guesses += 1\n",
    "    print(f\"You guessed {user_guess}.\")\n",
    "    lower_bound, upper_bound = search(number, user_guess)\n",
    "    print(f\"Guess a number between {lower_bound} and {upper_bound}.\")\n",
    "\n",
    "print(f\"You guessed the number in {num_guesses} guesses!\")"
   ]
  },
  {
   "attachments": {},
   "cell_type": "markdown",
   "metadata": {},
   "source": [
    "# 3.11\n",
    "\n",
    "`[12, 14, 43, 57, 79, 80, 99]`\n",
    "- Middle: 57\n",
    "- Second number: 80\n",
    "- Tree: ![](https://raw.githubusercontent.com/kaiden-dough/fastpages/master/images/list1.png)\n",
    "\n",
    "`[92, 43, 74, 66, 30, 12, 1]`\n",
    "- Middle: 66\n",
    "- Second number: 74\n",
    "- Tree: ![](https://raw.githubusercontent.com/kaiden-dough/fastpages/master/images/list2.png)\n",
    "\n",
    "`[7, 13, 96, 111, 33, 84, 60]`\n",
    "- Middle: 60\n",
    "- Second number: 96\n",
    "- Tree: ![](https://raw.githubusercontent.com/kaiden-dough/fastpages/master/images/list3.png)\n",
    "\n",
    "MC #3: C (not sorted)\n",
    "\n"
   ]
  },
  {
   "cell_type": "code",
   "execution_count": 8,
   "metadata": {},
   "outputs": [
    {
     "name": "stdout",
     "output_type": "stream",
     "text": [
      "constructing binary search tree: [12, 14, 43, 57, 79, 80, 99] searching for 14\n",
      "x < 57\n",
      "x = 14\n",
      "found 14 at idx 1\n",
      "\n",
      "constructing binary search tree: [1, 12, 30, 43, 66, 74, 92] searching for 12\n",
      "x < 43\n",
      "x = 12\n",
      "found 12 at idx 1\n",
      "\n",
      "constructing binary search tree: [7, 13, 33, 60, 84, 96, 111] searching for 84\n",
      "x > 60\n",
      "x < 96\n",
      "x = 84\n",
      "found 84 at idx 4\n",
      "\n"
     ]
    }
   ],
   "source": [
    "# Binary search algorithm implementation\n",
    "\n",
    "import math\n",
    "\n",
    "def binary_search1(xs, x, start, end):\n",
    "    if start > end: return -1\n",
    "    mid = math.floor((start + end) / 2)\n",
    "    if xs[mid] == x:\n",
    "        print(\"x =\", x)\n",
    "        return mid\n",
    "    if xs[mid] > x:\n",
    "        print(\"x <\", xs[mid])\n",
    "        return binary_search1(xs, x, start,  mid-1)\n",
    "    if xs[mid] < x:\n",
    "        print(\"x >\", xs[mid])\n",
    "        return binary_search1(xs, x, mid+1,  end)\n",
    "\n",
    "def binary_search(xs, x):\n",
    "    return binary_search1(xs, x, 0, len(xs) - 1)\n",
    "\n",
    "arr1 = [12, 14, 43, 57, 79, 80, 99]\n",
    "arr2 = [92, 43, 74, 66, 30, 12, 1]\n",
    "arr3 = [7, 13, 96, 111, 33, 84, 60]\n",
    "\n",
    "arr2.sort()\n",
    "arr3.sort()\n",
    "\n",
    "for (arr, needle) in zip([arr1, arr2, arr3], [14, 12, 84]):\n",
    "    print(\"constructing binary search tree:\", arr, \"searching for\", needle)\n",
    "    print(\"found {} at idx {}\\n\".format(needle, binary_search(arr, needle)))\n"
   ]
  }
 ],
 "metadata": {
  "kernelspec": {
   "display_name": "base",
   "language": "python",
   "name": "python3"
  },
  "language_info": {
   "codemirror_mode": {
    "name": "ipython",
    "version": 3
   },
   "file_extension": ".py",
   "mimetype": "text/x-python",
   "name": "python",
   "nbconvert_exporter": "python",
   "pygments_lexer": "ipython3",
   "version": "3.9.12"
  },
  "orig_nbformat": 4,
  "vscode": {
   "interpreter": {
    "hash": "1448b48b023bcc9c3d4a79e814720a10ca6d4244f75e0f7ce4af58f96ba2b7d3"
   }
  }
 },
 "nbformat": 4,
 "nbformat_minor": 2
}

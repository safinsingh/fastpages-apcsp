{
 "cells": [
  {
   "cell_type": "markdown",
   "metadata": {},
   "source": [
    "# Lists, Dictionaries, Iteration\n",
    "> An introduction to Data Abstraction using Python Lists [] and Python Dictionaries {}.\n",
    "\n",
    "- title: Lists, Dictionaries, Iteration\n",
    "- toc: true\n",
    "- categories: [units]\n",
    "- permalink: /collegeboard/python_lists\n",
    "- image: /images/python_lists.png\n",
    "- categories: [collegeboard]\n",
    "- tags: [python]"
   ]
  },
  {
   "cell_type": "markdown",
   "metadata": {},
   "source": [
    "# Defining InfoDB"
   ]
  },
  {
   "cell_type": "code",
   "execution_count": 2,
   "metadata": {},
   "outputs": [],
   "source": [
    "InfoDb = []"
   ]
  },
  {
   "cell_type": "markdown",
   "metadata": {},
   "source": [
    "# Adding entries to InfoDB"
   ]
  },
  {
   "cell_type": "code",
   "execution_count": 3,
   "metadata": {},
   "outputs": [],
   "source": [
    "# append entries to the end of the InfoDb list\n",
    "InfoDb.append({\n",
    "    \"name\": \"Safin Singh\",\n",
    "    \"age\": 16,\n",
    "    \"phone\": \"858-XXX-XXXX\",\n",
    "    \"interests\": [\"tennis\", \"programming\"],\n",
    "    \"grades\": {\n",
    "        \"APCSP\": \"A\",\n",
    "        \"APEL\": \"A\",\n",
    "        \"AP Physics\": \"A\",\n",
    "        \"AP Stats\": \"A\"\n",
    "    }\n",
    "})\n",
    "\n",
    "InfoDb.append({\n",
    "    \"name\": \"Alex Kumar\",\n",
    "    \"age\": 16,\n",
    "    \"phone\": \"858-XXX-XXXX\",\n",
    "    \"interests\": [\"basketball\"],\n",
    "    \"grades\": {\n",
    "        \"APCSP\": \"A\",\n",
    "        \"APEL\": \"A\",\n",
    "        \"AP Physics\": \"A\",\n",
    "        \"AP Calculus BC\": \"A\"\n",
    "    }\n",
    "})\n",
    "\n",
    "InfoDb.append({\n",
    "    \"name\": \"Kalani Cabral-Omana\",\n",
    "    \"age\": 16,\n",
    "    \"phone\": \"619-XXX-XXXX\",\n",
    "    \"interests\": [\"soccer\", \"surfing\"],\n",
    "    \"grades\": {\n",
    "        \"APCSP\": \"A\",\n",
    "        \"APEL\": \"B\",\n",
    "        \"AP Physics\": \"B\",\n",
    "        \"AP Stats\": \"A\"\n",
    "    }\n",
    "})\n",
    "\n",
    "InfoDb.append({\n",
    "    \"name\": \"Navan Yatavelli\",\n",
    "    \"age\": 15,\n",
    "    \"phone\": \"858-XXX-XXXX\",\n",
    "    \"interests\": [\"football\", \"walking my dog\"],\n",
    "    \"grades\": {\n",
    "        \"APCSP\": \"A\",\n",
    "        \"American Lit\": \"A\",\n",
    "        \"AP Stats\": \"A\",\n",
    "        \"AP Bio\": \"A\"\n",
    "    }\n",
    "})"
   ]
  },
  {
   "cell_type": "markdown",
   "metadata": {},
   "source": [
    "# Printing InfoDB"
   ]
  },
  {
   "cell_type": "code",
   "execution_count": null,
   "metadata": {},
   "outputs": [],
   "source": [
    "def format_entry(entry):\n",
    "    print(\"\"\"{}\n",
    "    Age: {}\n",
    "    Phone: {}\n",
    "    Interests: {}\n",
    "    Grades:\"\"\".format(entry[\"name\"], entry[\"age\"], entry[\"phone\"], \", \".join(entry[\"interests\"])))\n",
    "    for cl, grade in entry[\"grades\"].items():\n",
    "        print(\"        {}: {}\".format(cl, grade))\n",
    "    print()\n",
    "\n",
    "# loop through each entry in InfoDb by value\n",
    "for entry in InfoDb:\n",
    "    format_entry(entry)"
   ]
  },
  {
   "cell_type": "markdown",
   "metadata": {},
   "source": [
    "# For loop with index"
   ]
  },
  {
   "cell_type": "code",
   "execution_count": null,
   "metadata": {},
   "outputs": [],
   "source": [
    "# loop through each element of InfoDb by index\n",
    "for i in range(len(InfoDb)):\n",
    "    format_entry(InfoDb[i])"
   ]
  },
  {
   "cell_type": "markdown",
   "metadata": {},
   "source": [
    "# While loop"
   ]
  },
  {
   "cell_type": "code",
   "execution_count": null,
   "metadata": {},
   "outputs": [],
   "source": [
    "# initialize a counter\n",
    "i = 0\n",
    "# cap the loop at len(InfoDb) runs\n",
    "n = len(InfoDb)\n",
    "\n",
    "# while the counter is less than list length...\n",
    "while i < n:\n",
    "    format_entry(InfoDb[i])\n",
    "    # increment counter\n",
    "    i+=1"
   ]
  },
  {
   "cell_type": "markdown",
   "metadata": {},
   "source": [
    "# Recursion"
   ]
  },
  {
   "cell_type": "code",
   "execution_count": null,
   "metadata": {},
   "outputs": [],
   "source": [
    "n = len(InfoDb)\n",
    "\n",
    "def printer(i):\n",
    "    # if you are at the end of the list, quit\n",
    "    if i == n:\n",
    "        return\n",
    "\n",
    "    format_entry(InfoDb[i])\n",
    "\n",
    "    # call function with the next index\n",
    "    printer(i+1)\n",
    "\n",
    "printer(0)"
   ]
  }
 ],
 "metadata": {
  "kernelspec": {
   "display_name": "Python 3.9.12 ('base')",
   "language": "python",
   "name": "python3"
  },
  "language_info": {
   "codemirror_mode": {
    "name": "ipython",
    "version": 3
   },
   "file_extension": ".py",
   "mimetype": "text/x-python",
   "name": "python",
   "nbconvert_exporter": "python",
   "pygments_lexer": "ipython3",
   "version": "3.9.12"
  },
  "orig_nbformat": 4,
  "vscode": {
   "interpreter": {
    "hash": "a554e3b18ab91e38da13530925b83e6ae0d398308bf3621088c9bc41e0b591f4"
   }
  }
 },
 "nbformat": 4,
 "nbformat_minor": 2
}

{
 "cells": [
  {
   "cell_type": "markdown",
   "metadata": {},
   "source": [
    "# Lists, Dictionaries, Iteration\n",
    "> An introduction to Data Abstraction using Python Lists [] and Python Dictionaries {}.\n",
    "\n",
    "- title: Lists, Dictionaries, Iteration\n",
    "- toc: true\n",
    "- categories: [units]\n",
    "- permalink: /collegeboard/python_lists\n",
    "- image: /images/python_lists.png\n",
    "- categories: [collegeboard]\n",
    "- tags: [python]\n",
    "- comments: true"
   ]
  },
  {
   "cell_type": "markdown",
   "metadata": {},
   "source": [
    "# Defining InfoDB"
   ]
  },
  {
   "cell_type": "code",
   "execution_count": 1,
   "metadata": {},
   "outputs": [],
   "source": [
    "InfoDb = []"
   ]
  },
  {
   "cell_type": "markdown",
   "metadata": {},
   "source": [
    "# Adding entries to InfoDB"
   ]
  },
  {
   "cell_type": "code",
   "execution_count": 2,
   "metadata": {},
   "outputs": [],
   "source": [
    "# append entries to the end of the InfoDb list\n",
    "InfoDb.append({\n",
    "    # key-value pairs\n",
    "    \"name\": \"Safin Singh\",\n",
    "    \"age\": 16,\n",
    "    \"phone\": \"858-XXX-XXXX\",\n",
    "    # interests is a list of strs\n",
    "    \"interests\": [\"tennis\", \"programming\"],\n",
    "    # grades is a dict\n",
    "    \"grades\": {\n",
    "        \"APCSP\": \"A\",\n",
    "        \"APEL\": \"A\",\n",
    "        \"AP Physics\": \"A\",\n",
    "        \"AP Stats\": \"A\"\n",
    "    }\n",
    "})\n",
    "\n",
    "InfoDb.append({\n",
    "    \"name\": \"Alex Kumar\",\n",
    "    \"age\": 16,\n",
    "    \"phone\": \"858-XXX-XXXX\",\n",
    "    \"interests\": [\"basketball\"],\n",
    "    \"grades\": {\n",
    "        \"APCSP\": \"A\",\n",
    "        \"APEL\": \"A\",\n",
    "        \"AP Physics\": \"A\",\n",
    "        \"AP Calculus BC\": \"A\"\n",
    "    }\n",
    "})\n",
    "\n",
    "InfoDb.append({\n",
    "    \"name\": \"Kalani Cabral-Omana\",\n",
    "    \"age\": 16,\n",
    "    \"phone\": \"619-XXX-XXXX\",\n",
    "    \"interests\": [\"soccer\", \"surfing\"],\n",
    "    \"grades\": {\n",
    "        \"APCSP\": \"A\",\n",
    "        \"APEL\": \"B\",\n",
    "        \"AP Physics\": \"B\",\n",
    "        \"AP Stats\": \"A\"\n",
    "    }\n",
    "})\n",
    "\n",
    "InfoDb.append({\n",
    "    \"name\": \"Navan Yatavelli\",\n",
    "    \"age\": 15,\n",
    "    \"phone\": \"858-XXX-XXXX\",\n",
    "    \"interests\": [\"football\", \"walking my dog\"],\n",
    "    \"grades\": {\n",
    "        \"APCSP\": \"A\",\n",
    "        \"American Lit\": \"A\",\n",
    "        \"AP Stats\": \"A\",\n",
    "        \"AP Bio\": \"A\"\n",
    "    }\n",
    "})"
   ]
  },
  {
   "cell_type": "markdown",
   "metadata": {},
   "source": [
    "# Printing InfoDB"
   ]
  },
  {
   "cell_type": "code",
   "execution_count": null,
   "metadata": {},
   "outputs": [],
   "source": [
    "def format_entry(entry):\n",
    "    # use format string to print entries\n",
    "    print(\"\"\"{}\n",
    "    Age: {}\n",
    "    Phone: {}\n",
    "    Interests: {}\n",
    "    Grades:\"\"\".format(entry[\"name\"], entry[\"age\"], entry[\"phone\"], \", \".join(entry[\"interests\"])))\n",
    "    # loop through classes to print each individual grade\n",
    "    for cl, grade in entry[\"grades\"].items():\n",
    "        print(\"        {}: {}\".format(cl, grade))\n",
    "    print()\n",
    "\n",
    "# loop through each entry in InfoDb by value\n",
    "for entry in InfoDb:\n",
    "    format_entry(entry)"
   ]
  },
  {
   "cell_type": "markdown",
   "metadata": {},
   "source": [
    "# For loop with index"
   ]
  },
  {
   "cell_type": "code",
   "execution_count": null,
   "metadata": {},
   "outputs": [],
   "source": [
    "# loop through each element of InfoDb by index\n",
    "for i in range(len(InfoDb)):\n",
    "    # access the element at index i of InfoDb\n",
    "    format_entry(InfoDb[i])"
   ]
  },
  {
   "cell_type": "markdown",
   "metadata": {},
   "source": [
    "# While loop"
   ]
  },
  {
   "cell_type": "code",
   "execution_count": null,
   "metadata": {},
   "outputs": [],
   "source": [
    "# initialize a counter\n",
    "i = 0\n",
    "# cap the loop at len(InfoDb) runs\n",
    "n = len(InfoDb)\n",
    "\n",
    "# while the counter is less than list length...\n",
    "while i < n:\n",
    "    # print entry at index i\n",
    "    format_entry(InfoDb[i])\n",
    "    # increment counter\n",
    "    i+=1"
   ]
  },
  {
   "cell_type": "markdown",
   "metadata": {},
   "source": [
    "# Recursion"
   ]
  },
  {
   "cell_type": "code",
   "execution_count": null,
   "metadata": {},
   "outputs": [],
   "source": [
    "n = len(InfoDb)\n",
    "\n",
    "# define recursive function\n",
    "def printer(i):\n",
    "    # if you are at the end of the list, quit\n",
    "    if i == n:\n",
    "        return\n",
    "\n",
    "    # print entry at index i\n",
    "    format_entry(InfoDb[i])\n",
    "\n",
    "    # call function with the next index\n",
    "    printer(i+1)\n",
    "\n",
    "# call function starting at index 0\n",
    "printer(0)"
   ]
  },
  {
   "cell_type": "markdown",
   "metadata": {},
   "source": [
    "# Adding an entry to InfoDB with user input"
   ]
  },
  {
   "cell_type": "code",
   "execution_count": null,
   "metadata": {},
   "outputs": [],
   "source": [
    "# get input for each single-value key\n",
    "name = input(\"What's your name? \")\n",
    "age = int(input(\"How old are you? \"))\n",
    "phone = input(\"What's your phone number? \")\n",
    "\n",
    "# get interests as a comma-separated list and split on the comma\n",
    "interests = input(\"What are your interests (comma-separated)? \").split(\",\")\n",
    "\n",
    "# see above\n",
    "classes = input(\"What classes are you in (comma-separated)? \").split(\",\")\n",
    "grades = input(\n",
    "    \"What are your grades in each of your respective classes (comma-separated)? \").split(\",\")\n",
    "# transform both arrays into an array of tuples and then to a dict\n",
    "class_grades = dict(zip(classes, grades))\n",
    "\n",
    "InfoDb.append({\n",
    "    \"name\": name,\n",
    "    \"age\": age,\n",
    "    \"phone\": phone,\n",
    "    \"interests\": interests,\n",
    "    \"grades\": class_grades\n",
    "})\n"
   ]
  },
  {
   "cell_type": "markdown",
   "metadata": {},
   "source": [
    "# My partner's list"
   ]
  },
  {
   "cell_type": "code",
   "execution_count": null,
   "metadata": {},
   "outputs": [],
   "source": [
    "InfoDb = []\n",
    "\n",
    "InfoDb.append({\n",
    "    \"FirstName\": \"samit\",\n",
    "    \"LastName\": \"poojary\",\n",
    "    \"DOB\": \"September 15\",\n",
    "    \"Residence\": \"San Diego\",\n",
    "    \"Email\": \"samit.poojary@gmail.com\",\n",
    "    \"Phone\": \"iphone\"\n",
    "})\n",
    "\n",
    "#adding extra records to InfoDb\n",
    "\n",
    "InfoDb.append({\n",
    "    \"FirstName\": \"Safin\",\n",
    "    \"LastName\": \"Singh\",\n",
    "    \"DOB\": \"July 13\",\n",
    "    \"Residence\": \"San Diego\",\n",
    "    \"Email\": \"safin.singh@gmail.com\",\n",
    "    \"Phone\": \"android\"\n",
    "})\n",
    "# adding extra records\n",
    "InfoDb.append({\n",
    "    \"FirstName\": \"Alex\",\n",
    "    \"LastName\": \"Kumar\",\n",
    "    \"DOB\": \"May 9\",\n",
    "    \"Residence\": \"San Diego\",\n",
    "    \"Email\": \"alex.k.kumar@gmail.com\",\n",
    "    \"Phone\": \"iphone\"\n",
    "})\n",
    "# Adding one extra item to InfoDb\n",
    "InfoDb.append({\n",
    "    \"FirstName\": \"Maxie\",\n",
    "    \"LastName\": \"Kumar\",\n",
    "    \"DOB\": \"November 5\",\n",
    "    \"Residence\": \"San Diego\",\n",
    "    \"Email\": \"maxie.kumar@gmail.com\",\n",
    "    \"Phone\": \"no phone\"\n",
    "})"
   ]
  },
  {
   "cell_type": "markdown",
   "metadata": {},
   "source": [
    "# Modified `format_entry` for Alex's list"
   ]
  },
  {
   "cell_type": "code",
   "execution_count": 1,
   "metadata": {},
   "outputs": [],
   "source": [
    "def format_entry(entry):\n",
    "    # use format string to print entries\n",
    "    print(\"\"\"{} {}\n",
    "    Date of Birth: {}\n",
    "    Residence: {}\n",
    "    Email: {}\n",
    "    Phone:\"\"\".format(\n",
    "        entry[\"FirstName\"],\n",
    "        entry[\"LastName\"],\n",
    "        entry[\"DOB\"],\n",
    "        entry[\"Residence\"],\n",
    "        entry[\"Email\"],\n",
    "        entry[\"Phone\"]\n",
    "    ))\n"
   ]
  },
  {
   "cell_type": "markdown",
   "metadata": {},
   "source": [
    "# A quiz using \"a list of dictionaries\" (?)"
   ]
  },
  {
   "cell_type": "code",
   "execution_count": null,
   "metadata": {},
   "outputs": [],
   "source": [
    "def ask(qna):\n",
    "    # get question and answer from qna dictionary\n",
    "    question = qna.keys()[0]\n",
    "\n",
    "    # get user input\n",
    "    res = input(question + \" \")\n",
    "\n",
    "    # make comparison case-insensitive (given our answers are lowercase)\n",
    "    if res.lower() == qna[question]:\n",
    "        # use string interpolation to print a correct anser\n",
    "        print(\"'{}' is the correct answer!\".format(res))\n",
    "        return True\n",
    "    else:\n",
    "        # prompt the user to try again if they want to\n",
    "        again = input(\"'{}' is incorrect. Try again? [y/N] \".format(res))\n",
    "        if again == \"y\":\n",
    "            # recursively call \"ask\" function for the retry feature\n",
    "            return ask(qna)\n",
    "        else:\n",
    "            return False\n",
    "\n",
    "questions_and_answer = [\n",
    "    # questions taken from previous quiz\n",
    "    {\"What command is used to include other functions that were previously developed?\": \"import\"},\n",
    "    {\"What command is used to evaluate correct or incorrect response in this example?\": \"if\"},\n",
    "    {\"Each 'if' command contains an '_________' to determine a true or false condition?\": \"expression\"},\n",
    "    {\"The two possible boolean values in Python are true and '____'.\": \"false\"},\n",
    "    {\"Python is a(n) [interpreted/compiled] language.\": \"interpreted\"},\n",
    "    {\"A '___' loop can iterate over items in a list.\": \"for\"},\n",
    "    {\"What keyword can be used to create a block that can catch and handle an exception?\": \"try\"},\n",
    "    {\"A function '________' allows the programmer to specify additional info to a function.\": \"parameter\"},\n",
    "    {\"The 'def' keyword is used when defining a '________'.\": \"function\"},\n",
    "    {\"The '_' operator can be used to concatenate two strings.\": \"+\" }\n",
    "]\n",
    "\n",
    "# counter for the total correct answers\n",
    "correct = 0\n",
    "\n",
    "# loop over all items in the questions_and_answers list\n",
    "for qna in questions_and_answer:\n",
    "    if ask(qna):\n",
    "        # increment the counter if the user gets something correct\n",
    "        correct += 1\n",
    "\n",
    "# display the total score at the end with an encouraging message\n",
    "print(\"Great job! You got a score of {}%.\".format(\n",
    "    int(100 * correct / len(questions_and_answer))))"
   ]
  },
  {
   "cell_type": "markdown",
   "metadata": {},
   "source": [
    "# Print list backwards"
   ]
  },
  {
   "cell_type": "code",
   "execution_count": null,
   "metadata": {},
   "outputs": [],
   "source": [
    "for entry in InfoDb[::-1]:\n",
    "    format_entry(entry)"
   ]
  }
 ],
 "metadata": {
  "kernelspec": {
   "display_name": "Python 3.9.12 ('base')",
   "language": "python",
   "name": "python3"
  },
  "language_info": {
   "codemirror_mode": {
    "name": "ipython",
    "version": 3
   },
   "file_extension": ".py",
   "mimetype": "text/x-python",
   "name": "python",
   "nbconvert_exporter": "python",
   "pygments_lexer": "ipython3",
   "version": "3.9.12"
  },
  "orig_nbformat": 4,
  "vscode": {
   "interpreter": {
    "hash": "a554e3b18ab91e38da13530925b83e6ae0d398308bf3621088c9bc41e0b591f4"
   }
  }
 },
 "nbformat": 4,
 "nbformat_minor": 2
}

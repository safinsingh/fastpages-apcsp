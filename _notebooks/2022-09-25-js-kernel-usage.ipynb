{
 "cells": [
  {
   "cell_type": "markdown",
   "metadata": {},
   "source": [
    "# JS Kernel Usage\n",
    "\n",
    "- toc: true\n",
    "- badges: true\n",
    "- comments: true\n",
    "- categories: [jupyter, javascript]"
   ]
  },
  {
   "cell_type": "markdown",
   "metadata": {},
   "source": [
    "## Usage of the JS Kernel\n",
    "\n",
    "> Just the code snippets I created in [this post]({{ site.baseurl }}/js-explanation) adjusted to produce console output/show additional function/class usage"
   ]
  },
  {
   "cell_type": "code",
   "execution_count": 1,
   "metadata": {},
   "outputs": [
    {
     "name": "stderr",
     "output_type": "stream",
     "text": [
      "(node:10986) ExperimentalWarning: The Fetch API is an experimental feature. This feature could change at any time\n",
      "(Use `node --trace-warnings ...` to show where the warning was created)\n"
     ]
    },
    {
     "data": {
      "text/html": [
       "\n",
       "        <table>\n",
       "            <thead>\n",
       "                <tr>\n",
       "                    <th>Name</th>\n",
       "                    <th>Description</th>\n",
       "                    <th>URL</th>\n",
       "                </tr>\n",
       "            </thead>\n",
       "            <tbody>\n",
       "                \n",
       "        <tr>\n",
       "            <td>hermes</td>\n",
       "            <td>✨ A full-stack ephemeral chat application built with Node.js</td>\n",
       "            <td><a href=\"https://github.com/safinsingh/hermes\">https://github.com/safinsingh/hermes</a></td>\n",
       "        </tr>\n",
       "    \n",
       "\n",
       "        <tr>\n",
       "            <td>scylla</td>\n",
       "            <td>⚔️A high-performance CyberPatriot-style RvB engine</td>\n",
       "            <td><a href=\"https://github.com/safinsingh/scylla\">https://github.com/safinsingh/scylla</a></td>\n",
       "        </tr>\n",
       "    \n",
       "\n",
       "        <tr>\n",
       "            <td>fso</td>\n",
       "            <td>🔗 Fast [link] shortener</td>\n",
       "            <td><a href=\"https://github.com/safinsingh/fso\">https://github.com/safinsingh/fso</a></td>\n",
       "        </tr>\n",
       "    \n",
       "\n",
       "        <tr>\n",
       "            <td>pam-remote2</td>\n",
       "            <td>👨‍💻Intercept and upload PAM authentication credentials</td>\n",
       "            <td><a href=\"https://github.com/safinsingh/pam-remote2\">https://github.com/safinsingh/pam-remote2</a></td>\n",
       "        </tr>\n",
       "    \n",
       "            </tbody>\n",
       "        </table>\n",
       "    "
      ]
     },
     "execution_count": 1,
     "metadata": {},
     "output_type": "execute_result"
    }
   ],
   "source": [
    "$$async$$ = true;\n",
    "\n",
    "// github graphql query\n",
    "const query = `query {\n",
    "    repositoryOwner(login: \"safinsingh\") {\n",
    "        ... on ProfileOwner {\n",
    "            itemShowcase {\n",
    "                items(first: 4) {\n",
    "                    edges {\n",
    "                        node {\n",
    "                            ... on Repository {\n",
    "                                name\n",
    "                                description\n",
    "                                url\n",
    "                            }\n",
    "                        }\n",
    "                    }\n",
    "                }\n",
    "            }\n",
    "        }\n",
    "    }\n",
    "}`;\n",
    "\n",
    "// github api token base64 encoded\n",
    "const token = decodeURIComponent(\n",
    "    atob(\"Z2hwX3V1YmN4UzNJZ3kwc1JqTkZFdWllZTZMQ2JFeXcwbzBlR1Njdw==\")\n",
    ");\n",
    "\n",
    "const main = async () => {\n",
    "    // get projects as array\n",
    "    const projects = await fetch(\"https://api.github.com/graphql\", {\n",
    "        // send query as request body\n",
    "        body: JSON.stringify({ query }),\n",
    "        headers: {\n",
    "            Accept: \"application/json\",\n",
    "            // use token for authorization\n",
    "            Authorization: `Bearer ${token}`,\n",
    "            \"Content-Type\": \"application/json\",\n",
    "        },\n",
    "        method: \"POST\",\n",
    "    })\n",
    "        .then((r) => r.json())\n",
    "        .then((r) =>\n",
    "            r.data.repositoryOwner.itemShowcase.items.edges.map(\n",
    "                (edge) => edge.node\n",
    "            )\n",
    "        );\n",
    "\n",
    "    const rowFrags = projects.map(\n",
    "        (p) => `\n",
    "        <tr>\n",
    "            <td>${p.name}</td>\n",
    "            <td>${p.description}</td>\n",
    "            <td><a href=\"${p.url}\">${p.url}</a></td>\n",
    "        </tr>\n",
    "    `\n",
    "    );\n",
    "\n",
    "    const tableFrag = `\n",
    "        <table>\n",
    "            <thead>\n",
    "                <tr>\n",
    "                    <th>Name</th>\n",
    "                    <th>Description</th>\n",
    "                    <th>URL</th>\n",
    "                </tr>\n",
    "            </thead>\n",
    "            <tbody>\n",
    "                ${rowFrags.join(\"\\n\")}\n",
    "            </tbody>\n",
    "        </table>\n",
    "    `;\n",
    "\n",
    "    $$.html(tableFrag);\n",
    "};\n",
    "\n",
    "main()\n",
    "    .then(() => $$done$$(\"finished\"))\n",
    "    .catch((e) => $$done$$(\"err: \" + e));\n"
   ]
  }
 ],
 "metadata": {
  "kernelspec": {
   "display_name": "JavaScript (Node.js)",
   "language": "javascript",
   "name": "javascript"
  },
  "language_info": {
   "file_extension": ".js",
   "mimetype": "application/javascript",
   "name": "javascript",
   "version": "18.1.0"
  },
  "orig_nbformat": 4,
  "vscode": {
   "interpreter": {
    "hash": "916dbcbb3f70747c44a77c7bcd40155683ae19c65e1c03b4aa3499c5328201f1"
   }
  }
 },
 "nbformat": 4,
 "nbformat_minor": 2
}

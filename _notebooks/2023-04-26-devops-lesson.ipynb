{
 "cells": [
  {
   "attachments": {},
   "cell_type": "markdown",
   "metadata": {},
   "source": [
    "# DevOps Lesson\n",
    "\n",
    "- toc: true\n",
    "- categories: []\n",
    "- type: pbl"
   ]
  },
  {
   "cell_type": "code",
   "execution_count": null,
   "metadata": {},
   "outputs": [],
   "source": [
    "import socket\n",
    "\n",
    "# Change the following host and see what IP it prints!\n",
    "host = \"google.com\"\n",
    "ip = socket.gethostbyname(host)\n",
    "\n",
    "print(ip)"
   ]
  },
  {
   "cell_type": "code",
   "execution_count": null,
   "metadata": {},
   "outputs": [],
   "source": [
    "# Initiate a TCP connection to port 80\n",
    "with socket.socket(socket.AF_INET, socket.SOCK_STREAM) as s:\n",
    "    s.connect((ip, 80))\n",
    "    print(\"Successfully connected!\")"
   ]
  },
  {
   "attachments": {},
   "cell_type": "markdown",
   "metadata": {},
   "source": [
    "## Check-In\n",
    "\n",
    "1. What is an IP address?\n",
    "2. What is a TCP port?"
   ]
  },
  {
   "cell_type": "code",
   "execution_count": null,
   "metadata": {},
   "outputs": [],
   "source": [
    "with socket.socket(socket.AF_INET, socket.SOCK_STREAM) as s:\n",
    "    s.connect((ip, 80))\n",
    "\n",
    "    # Send a GET request to \"/\"\n",
    "    s.sendall(b\"GET / HTTP/1.1\\r\\n\\r\\n\")\n",
    "\n",
    "    # Recieve & print 2048 bytes of data\n",
    "    data = s.recv(2048)\n",
    "    print(data.decode())"
   ]
  },
  {
   "cell_type": "code",
   "execution_count": null,
   "metadata": {},
   "outputs": [],
   "source": [
    "import requests\n",
    "\n",
    "# Change the URL to whatever you'd like\n",
    "response = requests.get(\"https://google.com\")\n",
    "\n",
    "print(\"Status code:\", response.status_code)\n",
    "print(\"Headers:\", response.headers)\n",
    "print(\"Response text:\", response.text[:100])\n",
    "\n",
    "# Add a line to print the \"Content-Type\" header of the response\n",
    "# Try an image URL!"
   ]
  },
  {
   "attachments": {},
   "cell_type": "markdown",
   "metadata": {},
   "source": [
    "# NGINX"
   ]
  },
  {
   "cell_type": "code",
   "execution_count": null,
   "metadata": {},
   "outputs": [],
   "source": [
    "aws = \"3.130.255.192\"\n",
    "\n",
    "response = requests.get(\"http://\" + aws)\n",
    "print(response.text)\n"
   ]
  },
  {
   "attachments": {},
   "cell_type": "markdown",
   "metadata": {},
   "source": [
    "## Configuration\n",
    "\n",
    "```nginx\n",
    "server {\n",
    "    // Listen on virtual \"port 80\"\n",
    "    listen 80;\n",
    "    listen [::]:80;\n",
    "    server_name 3.130.255.192;\n",
    "\n",
    "    location / {\n",
    "        // Inform server about original client\n",
    "        proxy_set_header        Host $host;\n",
    "        proxy_set_header        X-Real-IP $remote_addr;\n",
    "        proxy_set_header        X-Forwarded-For $proxy_add_x_forwarded_for;\n",
    "        proxy_set_header        X-Forwarded-Proto $scheme;\n",
    "\n",
    "        // Forward all requests transparently to the server running on our computer\n",
    "        proxy_pass              http://localhost:9099;\n",
    "    }\n",
    "}\n",
    "```\n",
    "\n",
    "### Load Balancing\n",
    "\n",
    "```nginx\n",
    "upstream example.com {\n",
    "    server server1.example.com;\n",
    "    server server1.example.com;\n",
    "}\n",
    "```\n",
    "\n",
    "### HTTP Headers\n",
    "\n",
    "```nginx\n",
    "server {\n",
    "    add_header X-Cool-Header \"I love APCSP!\";\n",
    "\n",
    "    location /pages {\n",
    "        add_header X-Cooler-Header \"This is my secret header!\";\n",
    "    }\n",
    "}\n",
    "```\n",
    "\n",
    "## Check In\n",
    "\n",
    "1. Research 1 HTTP header and describe, in detail, its purpose.\n",
    "2. Write a line in a sample NGINX configuration that will add that specific header to the `/information` location\n",
    "3. Explain the purpose of the load balancing performed by NGINX\n",
    "4. Modify the following code block to obtain the value of the secret header on `/products` of the AWS site\n"
   ]
  },
  {
   "cell_type": "code",
   "execution_count": null,
   "metadata": {},
   "outputs": [],
   "source": [
    "aws = \"3.130.255.192\"\n",
    "\n",
    "response = requests.get(\"http://\" + aws+ \"/products\")\n",
    "\n",
    "print(\"The secret header is:\", \"...\")"
   ]
  },
  {
   "attachments": {},
   "cell_type": "markdown",
   "metadata": {},
   "source": [
    "# Hacks\n",
    "\n",
    "- Experiment with connecting to different hosts (0.1)\n",
    "- Complete the above check-in questions (0.2)\n",
    "\n",
    "## Bonus (0.05)\n",
    "\n",
    "Create a diagram showing the layers of abstraction that allow us to use HTTP (IP, TCP, etc.)"
   ]
  }
 ],
 "metadata": {
  "kernelspec": {
   "display_name": "base",
   "language": "python",
   "name": "python3"
  },
  "language_info": {
   "codemirror_mode": {
    "name": "ipython",
    "version": 3
   },
   "file_extension": ".py",
   "mimetype": "text/x-python",
   "name": "python",
   "nbconvert_exporter": "python",
   "pygments_lexer": "ipython3",
   "version": "3.9.12"
  },
  "orig_nbformat": 4
 },
 "nbformat": 4,
 "nbformat_minor": 2
}

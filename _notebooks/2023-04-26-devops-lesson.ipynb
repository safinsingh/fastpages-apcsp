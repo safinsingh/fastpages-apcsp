{
 "cells": [
  {
   "attachments": {},
   "cell_type": "markdown",
   "metadata": {},
   "source": [
    "# DevOps Lesson\n",
    "\n",
    "- toc: true\n",
    "- categories: []\n",
    "- type: pbl"
   ]
  },
  {
   "cell_type": "code",
   "execution_count": 2,
   "metadata": {},
   "outputs": [
    {
     "name": "stdout",
     "output_type": "stream",
     "text": [
      "216.239.38.120\n"
     ]
    }
   ],
   "source": [
    "import socket\n",
    "\n",
    "# Change the following host and see what IP it prints!\n",
    "host = \"google.com\"\n",
    "ip = socket.gethostbyname(host)\n",
    "\n",
    "print(ip)"
   ]
  },
  {
   "cell_type": "code",
   "execution_count": 8,
   "metadata": {},
   "outputs": [
    {
     "name": "stdout",
     "output_type": "stream",
     "text": [
      "Successfully connected!\n"
     ]
    }
   ],
   "source": [
    "# Initiate a TCP connection to port 80\n",
    "with socket.socket(socket.AF_INET, socket.SOCK_STREAM) as s:\n",
    "    s.connect((ip, 80))\n",
    "    print(\"Successfully connected!\")"
   ]
  },
  {
   "attachments": {},
   "cell_type": "markdown",
   "metadata": {},
   "source": [
    "## Check-In\n",
    "\n",
    "1. What is an IP address?\n",
    "2. What is a TCP port?"
   ]
  },
  {
   "cell_type": "code",
   "execution_count": 9,
   "metadata": {},
   "outputs": [
    {
     "name": "stdout",
     "output_type": "stream",
     "text": [
      "HTTP/1.1 200 OK\n",
      "Date: Tue, 25 Apr 2023 20:32:31 GMT\n",
      "Expires: -1\n",
      "Cache-Control: private, max-age=0\n",
      "Content-Type: text/html; charset=ISO-8859-1\n",
      "Content-Security-Policy-Report-Only: object-src 'none';base-uri 'self';script-src 'nonce-RQ17xTJC9kQcfwgh_cXMgQ' 'strict-dynamic' 'report-sample' 'unsafe-eval' 'unsafe-inline' https: http:;report-uri https://csp.withgoogle.com/csp/gws/other-hp\n",
      "P3P: CP=\"This is not a P3P policy! See g.co/p3phelp for more info.\"\n",
      "Server: gws\n",
      "X-XSS-Protection: 0\n",
      "X-Frame-Options: SAMEORIGIN\n",
      "Set-Cookie: 1P_JAR=2023-04-25-20; expires=Thu, 25-May-2023 20:32:31 GMT; path=/; domain=.google.com; Secure\n",
      "Set-Cookie: AEC=AUEFqZc29lyMp2aGeLj0R5gMjmRWYJT1vZXoedGuonY2U0ovv3KjYx6YIg; expires=Sun, 22-Oct-2023 20:32:31 GMT; path=/; domain=.google.com; Secure; HttpOnly; SameSite=lax\n",
      "Set-Cookie: NID=511=SAzpO01Ubbe8GMaHdiPThmSPO093bIM4vA4MXJAiVx-7Xga1LctIRhgPfi2q9sEeomOmNf3L2pPKvjIkaX8CwWEcJzhGFGn5wJU6ix8EFBPxhJxhCMBGCwlgNGKxQ01kTp-yit5j4hwEN1G_NQ3Ya-hrz041V3N_-PE7smwop0M; expires=Wed, 25-Oct-2023 20:32:31 GMT; path=/; domain=.google.com; HttpOnly\n",
      "Accept-Ranges: none\n",
      "Vary: Accept-Encoding\n",
      "Transfer-Encoding: chunked\n",
      "\n",
      "5b5f\n",
      "<!doctype html><html itemscope=\"\" itemtype=\"http://schema.org/WebPage\" lang=\"en\"><head><meta content=\"Search the world's information, including webpages, images, videos and more. Google has many special features to help you find exactly what you're looking for.\" name=\"description\"><meta content=\"noodp\" name=\"robots\"><meta content=\"text/html; charset=UTF-8\" http-equiv=\"Content-Type\"><meta content=\"/images/branding/googleg/1x/googleg_standard_color_128dp.png\" itemprop=\"image\"><title>Google</title><script nonce=\"RQ17xTJC9kQcfwgh_cXMgQ\">(function(){window.google={kEI:'3zhIZMD2NKefkPIPzoeh2As',kEXPI:'0,1359409,1709,4349,207,4804,2316,383,246,5,1129120,1197756,380735,16114,28684,22431,1361,12317,17582,4998,13228,3847,38444,887,1985,2891,3926,7828,606,29877,791,30022,15324,432,3,346,1244,1,16916,2652,4,1527,2305,29062,13065,16638,18243,5821,2536,4094,7596,1,11943,30211,2,14022,2373,34\n"
     ]
    }
   ],
   "source": [
    "with socket.socket(socket.AF_INET, socket.SOCK_STREAM) as s:\n",
    "    s.connect((ip, 80))\n",
    "\n",
    "    # Send a GET request to \"/\"\n",
    "    s.sendall(b\"GET / HTTP/1.1\\r\\n\\r\\n\")\n",
    "\n",
    "    # Recieve & print 2048 bytes of data\n",
    "    data = s.recv(2048)\n",
    "    print(data.decode())"
   ]
  },
  {
   "cell_type": "code",
   "execution_count": 12,
   "metadata": {},
   "outputs": [
    {
     "name": "stdout",
     "output_type": "stream",
     "text": [
      "Status code: 200\n",
      "Headers: {'Date': 'Tue, 25 Apr 2023 20:34:36 GMT', 'Expires': '-1', 'Cache-Control': 'private, max-age=0', 'Content-Type': 'text/html; charset=ISO-8859-1', 'Content-Security-Policy-Report-Only': \"object-src 'none';base-uri 'self';script-src 'nonce-2iP0sXNGY3FrG23_kxj-5g' 'strict-dynamic' 'report-sample' 'unsafe-eval' 'unsafe-inline' https: http:;report-uri https://csp.withgoogle.com/csp/gws/other-hp\", 'P3P': 'CP=\"This is not a P3P policy! See g.co/p3phelp for more info.\"', 'Content-Encoding': 'gzip', 'Server': 'gws', 'X-XSS-Protection': '0', 'X-Frame-Options': 'SAMEORIGIN', 'Set-Cookie': '1P_JAR=2023-04-25-20; expires=Thu, 25-May-2023 20:34:36 GMT; path=/; domain=.google.com; Secure, AEC=AUEFqZfTKud34DWzWfhQCIHo24o552X0JTwtGYO7lJ6ds_atyofercZzkQ; expires=Sun, 22-Oct-2023 20:34:36 GMT; path=/; domain=.google.com; Secure; HttpOnly; SameSite=lax, NID=511=niN0jVmQrquvZpo28AT9n3j5_QhqcSyItDW1nyo_fkxR6q9bwCj1nqFu7GA12zSyg_r1w0KcbXP609nLbJZa9j-5JrCqUNP3hEtZ6qsDpaOuN3uCd9e8curPID70pGKn0aTRcPk7RlAPss4XuniVPUs8xiyjOHoLlHelhTlq1IY; expires=Wed, 25-Oct-2023 20:34:36 GMT; path=/; domain=.google.com; HttpOnly', 'Alt-Svc': 'h3=\":443\"; ma=2592000,h3-29=\":443\"; ma=2592000', 'Transfer-Encoding': 'chunked'}\n",
      "Response text: <!doctype html><html itemscope=\"\" itemtype=\"http://schema.org/WebPage\" lang=\"en\"><head><meta content\n"
     ]
    }
   ],
   "source": [
    "import requests\n",
    "\n",
    "# Change the URL to whatever you'd like\n",
    "response = requests.get(\"https://google.com\")\n",
    "\n",
    "print(\"Status code:\", response.status_code)\n",
    "print(\"Headers:\", response.headers)\n",
    "print(\"Response text:\", response.text[:100])\n",
    "\n",
    "# Add a line to print the \"Content-Type\" header of the response\n",
    "# Try an image URL!"
   ]
  },
  {
   "attachments": {},
   "cell_type": "markdown",
   "metadata": {},
   "source": [
    "# NGINX"
   ]
  },
  {
   "cell_type": "code",
   "execution_count": 32,
   "metadata": {},
   "outputs": [
    {
     "name": "stdout",
     "output_type": "stream",
     "text": [
      "HTTP/1.1 200 OK\n",
      "Server: nginx/1.18.0 (Ubuntu)\n",
      "Date: Tue, 25 Apr 2023 21:05:15 GMT\n",
      "Content-Type: text/html\n",
      "Content-Length: 612\n",
      "Last-Modified: Tue, 21 Apr 2020 14:09:01 GMT\n",
      "Connection: close\n",
      "ETag: \"5e9efe7d-264\"\n",
      "Accept-Ranges: bytes\n",
      "\n",
      "<!DOCTYPE html>\n",
      "<html>\n",
      "<head>\n",
      "<title>Welcome to nginx!</title>\n",
      "<style>\n",
      "    body {\n",
      "        width: 35em;\n",
      "        margin: 0 auto;\n",
      "        font-family: Tahoma, Verdana, Arial, sans-serif;\n",
      "    }\n",
      "</style>\n",
      "</head>\n",
      "<body>\n",
      "<h1>Welcome to nginx!</h1>\n",
      "<p>If you see this page, the nginx web server is successfully installed and\n",
      "working. Further configuration is required.</p>\n",
      "\n",
      "<p>For online documentation and support please refer to\n",
      "<a href=\"http://nginx.org/\">nginx.org</a>.<br/>\n",
      "Commercial support is available at\n",
      "<a href=\"http://nginx.com/\">nginx.com</a>.</p>\n",
      "\n",
      "<p><em>Thank you for using nginx.</em></p>\n",
      "</body>\n",
      "</html>\n",
      "\n"
     ]
    }
   ],
   "source": [
    "aws = \"3.130.255.192\"\n",
    "\n",
    "def http_get_raw(ip):\n",
    "    with socket.socket(socket.AF_INET, socket.SOCK_STREAM) as s:\n",
    "        s.connect((\"3.130.255.192\", 80))\n",
    "        s.sendall(b\"GET / HTTP/1.0\\r\\n\\r\\n\")\n",
    "        data = s.recv(2048)\n",
    "        print(data.decode())\n",
    "\n",
    "http_get_raw(aws)\n"
   ]
  }
 ],
 "metadata": {
  "kernelspec": {
   "display_name": "base",
   "language": "python",
   "name": "python3"
  },
  "language_info": {
   "codemirror_mode": {
    "name": "ipython",
    "version": 3
   },
   "file_extension": ".py",
   "mimetype": "text/x-python",
   "name": "python",
   "nbconvert_exporter": "python",
   "pygments_lexer": "ipython3",
   "version": "3.9.12"
  },
  "orig_nbformat": 4
 },
 "nbformat": 4,
 "nbformat_minor": 2
}

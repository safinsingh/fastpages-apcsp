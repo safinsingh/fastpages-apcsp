{
 "cells": [
  {
   "cell_type": "markdown",
   "metadata": {},
   "source": [
    "# Markdown Table\n",
    "\n",
    "- toc: true\n",
    "- badges: true\n",
    "- comments: true\n",
    "- categories: [jupyter]"
   ]
  },
  {
   "cell_type": "markdown",
   "metadata": {},
   "source": [
    "# Fetch commits from GitHub's REST API\n",
    "\n",
    "The following generates a markdown table from the latest commits on the GitHub repository hosting this FastPages site."
   ]
  },
  {
   "cell_type": "code",
   "execution_count": 3,
   "metadata": {},
   "outputs": [
    {
     "name": "stdout",
     "output_type": "stream",
     "text": [
      "| commit name | hash | date & time |\n",
      "|-------------|------|-------------|\n",
      "| feat: python lists | 9eafeb2 | 2022-09-02T21:19:33Z |\n",
      "| customization | 99bd269 | 2022-08-29T07:14:00Z |\n",
      "| customize index page | 8875f0e | 2022-08-29T07:00:52Z |\n",
      "| Fix image URLs | 93f40fb | 2022-08-29T06:57:23Z |\n",
      "| apel, physics, tags | 116e67e | 2022-08-29T06:51:20Z |\n",
      "| add docx files and vocab | dab640b | 2022-08-29T06:26:32Z |\n",
      "| bash tool setup | 9c75118 | 2022-08-29T06:05:04Z |\n",
      "| python quiz | 1060334 | 2022-08-29T04:47:04Z |\n",
      "| extra info | 7757f39 | 2022-08-22T20:06:07Z |\n",
      "| feat: add python \"hello\" post | 27caf1a | 2022-08-18T06:36:02Z |\n",
      "| feat: create first markdown post & set up local dev w docker-compose | 9ffbfaa | 2022-08-18T06:17:29Z |\n",
      "| bug: set correct baseurl in settings.ini | 2b7dd20 | 2022-08-18T05:38:52Z |\n",
      "| set up custom subdomain | 2771bb6 | 2022-08-18T05:37:00Z |\n",
      "| Merge pull request #1 from safinsingh/fastpages-automated-setup | 76d9ad8 | 2022-08-18T05:33:10Z |\n",
      "| setup repo | 148a60c | 2022-08-18T05:29:55Z |\n",
      "| Initial commit | bbd307a | 2022-08-18T05:29:38Z |\n"
     ]
    }
   ],
   "source": [
    "import requests\n",
    "\n",
    "r = requests.get(\"https://api.github.com/repos/safinsingh/fastpages-apcsp/commits\")\n",
    "commits = r.json()\n",
    "\n",
    "print(\"| commit name | hash | date & time |\")\n",
    "print(\"|-------------|------|-------------|\")\n",
    "for commit in commits:\n",
    "    print(\"| {} | {} | {} |\".format(\n",
    "        commit[\"commit\"][\"message\"],\n",
    "        commit[\"sha\"][0:7],\n",
    "        commit[\"commit\"][\"committer\"][\"date\"]\n",
    "    ))"
   ]
  },
  {
   "cell_type": "markdown",
   "metadata": {},
   "source": [
    "# Generated table\n",
    "\n",
    "| commit name                                                          | hash    | date & time          |\n",
    "| -------------------------------------------------------------------- | ------- | -------------------- |\n",
    "| feat: python lists                                                   | 9eafeb2 | 2022-09-02T21:19:33Z |\n",
    "| customization                                                        | 99bd269 | 2022-08-29T07:14:00Z |\n",
    "| customize index page                                                 | 8875f0e | 2022-08-29T07:00:52Z |\n",
    "| Fix image URLs                                                       | 93f40fb | 2022-08-29T06:57:23Z |\n",
    "| apel, physics, tags                                                  | 116e67e | 2022-08-29T06:51:20Z |\n",
    "| add docx files and vocab                                             | dab640b | 2022-08-29T06:26:32Z |\n",
    "| bash tool setup                                                      | 9c75118 | 2022-08-29T06:05:04Z |\n",
    "| python quiz                                                          | 1060334 | 2022-08-29T04:47:04Z |\n",
    "| extra info                                                           | 7757f39 | 2022-08-22T20:06:07Z |\n",
    "| feat: add python \"hello\" post                                        | 27caf1a | 2022-08-18T06:36:02Z |\n",
    "| feat: create first markdown post & set up local dev w docker-compose | 9ffbfaa | 2022-08-18T06:17:29Z |\n",
    "| bug: set correct baseurl in settings.ini                             | 2b7dd20 | 2022-08-18T05:38:52Z |\n",
    "| set up custom subdomain                                              | 2771bb6 | 2022-08-18T05:37:00Z |\n",
    "| Merge pull request #1 from safinsingh/fastpages-automated-setup      | 76d9ad8 | 2022-08-18T05:33:10Z |\n",
    "| setup repo                                                           | 148a60c | 2022-08-18T05:29:55Z |\n",
    "| Initial commit                                                       | bbd307a | 2022-08-18T05:29:38Z |\n"
   ]
  },
  {
   "cell_type": "markdown",
   "metadata": {},
   "source": [
    "# Bonus: current time\n",
    "\n",
    "The current time is: {{ site.time | date_to_xmlschema }}, generated using:\n",
    "\n",
    "```\n",
    "{% raw %}{{ site.time | date_to_xmlschema }}{% endraw %}\n",
    "```\n",
    "\n",
    "> This code block was rendered using the \"raw\" attribute, part of the Liquid syntax!"
   ]
  }
 ],
 "metadata": {
  "kernelspec": {
   "display_name": "Python 3.9.12 ('base')",
   "language": "python",
   "name": "python3"
  },
  "language_info": {
   "codemirror_mode": {
    "name": "ipython",
    "version": 3
   },
   "file_extension": ".py",
   "mimetype": "text/x-python",
   "name": "python",
   "nbconvert_exporter": "python",
   "pygments_lexer": "ipython3",
   "version": "3.9.12"
  },
  "orig_nbformat": 4,
  "vscode": {
   "interpreter": {
    "hash": "1448b48b023bcc9c3d4a79e814720a10ca6d4244f75e0f7ce4af58f96ba2b7d3"
   }
  }
 },
 "nbformat": 4,
 "nbformat_minor": 2
}

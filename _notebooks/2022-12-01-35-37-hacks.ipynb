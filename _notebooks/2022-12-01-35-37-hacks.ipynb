{
 "cells": [
  {
   "cell_type": "markdown",
   "metadata": {},
   "source": [
    "# Unit 3.5/3.7 Hacks\n",
    "\n",
    "- toc: true\n",
    "- badges: true\n",
    "- comments: true\n",
    "- categories: [jupyter]"
   ]
  },
  {
   "cell_type": "markdown",
   "metadata": {},
   "source": [
    "# 3.5\n",
    "\n",
    "NOT: if true, return false (and vice versa)\n",
    "\n",
    "OR: if either boolean is true, return true; else return false\n",
    "\n",
    "AND: if both booleans are true, return true; else return false\n",
    "\n",
    "NOT: flips the current bit; 0 becomes 1 and 1 becomes 0\n",
    "\n",
    "OR: if either of the two bits is set, return 1; else return 0\n",
    "\n",
    "AND: if both bits are set, return 1; else return 0\n",
    "\n",
    "XOR: if only one of the two bits are set, return 1; else return 0"
   ]
  },
  {
   "cell_type": "code",
   "execution_count": 1,
   "metadata": {},
   "outputs": [
    {
     "name": "stdout",
     "output_type": "stream",
     "text": [
      "you should play football!\n",
      "great job, spots are good!\n"
     ]
    }
   ],
   "source": [
    "activities = {\n",
    "    \"tennis\": True,\n",
    "    \"football\": False\n",
    "}\n",
    "\n",
    "# NOT\n",
    "def is_not_playing(sport):\n",
    "    return not activities[sport]\n",
    "\n",
    "# OR\n",
    "def is_playing_sport():\n",
    "    return activities[\"tennis\"] or activities[\"football\"]\n",
    "\n",
    "# AND\n",
    "def has_no_time_for_homework():\n",
    "    return activities[\"tennis\"] and activities[\"football\"]\n",
    "\n",
    "# MAIN LOGIC\n",
    "\n",
    "if is_not_playing(\"football\"):\n",
    "    print(\"you should play football!\")\n",
    "\n",
    "if is_playing_sport():\n",
    "    print(\"great job, sports are good!\")\n",
    "\n",
    "if has_no_time_for_homework():\n",
    "    print(\"wow, you're busy!\")"
   ]
  },
  {
   "cell_type": "code",
   "execution_count": null,
   "metadata": {},
   "outputs": [],
   "source": []
  }
 ],
 "metadata": {
  "kernelspec": {
   "display_name": "Python 3.9.12 ('base')",
   "language": "python",
   "name": "python3"
  },
  "language_info": {
   "codemirror_mode": {
    "name": "ipython",
    "version": 3
   },
   "file_extension": ".py",
   "mimetype": "text/x-python",
   "name": "python",
   "nbconvert_exporter": "python",
   "pygments_lexer": "ipython3",
   "version": "3.9.12"
  },
  "orig_nbformat": 4,
  "vscode": {
   "interpreter": {
    "hash": "1448b48b023bcc9c3d4a79e814720a10ca6d4244f75e0f7ce4af58f96ba2b7d3"
   }
  }
 },
 "nbformat": 4,
 "nbformat_minor": 2
}

{
 "cells": [
  {
   "cell_type": "markdown",
   "metadata": {},
   "source": [
    "# Unit 3.5/3.7 Hacks\n",
    "\n",
    "- toc: true\n",
    "- badges: true\n",
    "- comments: true\n",
    "- categories: [jupyter]"
   ]
  },
  {
   "cell_type": "markdown",
   "metadata": {},
   "source": [
    "# 3.5\n",
    "\n",
    "NOT: if true, return false (and vice versa)\n",
    "\n",
    "OR: if either boolean is true, return true; else return false\n",
    "\n",
    "AND: if both booleans are true, return true; else return false"
   ]
  },
  {
   "cell_type": "code",
   "execution_count": 1,
   "metadata": {},
   "outputs": [
    {
     "name": "stdout",
     "output_type": "stream",
     "text": [
      "you should play football!\n",
      "great job, spots are good!\n"
     ]
    }
   ],
   "source": [
    "activities = {\n",
    "    \"tennis\": True,\n",
    "    \"football\": False\n",
    "}\n",
    "\n",
    "# NOT\n",
    "def is_not_playing(sport):\n",
    "    return not activities[sport]\n",
    "\n",
    "# OR\n",
    "def is_playing_sport():\n",
    "    return activities[\"tennis\"] or activities[\"football\"]\n",
    "\n",
    "# AND\n",
    "def has_no_time_for_homework():\n",
    "    return activities[\"tennis\"] and activities[\"football\"]\n",
    "\n",
    "# MAIN LOGIC\n",
    "\n",
    "if is_not_playing(\"football\"):\n",
    "    print(\"you should play football!\")\n",
    "\n",
    "if is_playing_sport():\n",
    "    print(\"great job, sports are good!\")\n",
    "\n",
    "if has_no_time_for_homework():\n",
    "    print(\"wow, you're busy!\")"
   ]
  },
  {
   "cell_type": "markdown",
   "metadata": {},
   "source": [
    "# 3.6\n",
    "\n",
    "Selection: only run some lines of code if a certain condition is true. One example of this is an `if-then` statement.\n",
    "Algorithm: a procedure of code that does something or a task. One example is a Python function that adds a certain constant to the integer provided as input and returns the new number.\n",
    "Conditional statement: statement that affects whether a chunk of code will be executed or not. One example is an `if-then` statement."
   ]
  },
  {
   "cell_type": "code",
   "execution_count": 21,
   "metadata": {},
   "outputs": [
    {
     "name": "stdout",
     "output_type": "stream",
     "text": [
      "00000000\n",
      "01000000\n",
      "01000010\n",
      "00000010\n",
      "True\n",
      "False\n"
     ]
    }
   ],
   "source": [
    "# program showing binary conditional logic\n",
    "\n",
    "global lights\n",
    "lights = 0b00000000\n",
    "\n",
    "# light: light number from the left\n",
    "def light_place(light):\n",
    "    return pow(2, 8-light)\n",
    "\n",
    "def print_lights():\n",
    "    print('{:08b}'.format(lights))\n",
    "\n",
    "def light_toggle(light):\n",
    "    global lights\n",
    "    # xor flips\n",
    "    lights ^= light_place(light)\n",
    "\n",
    "def light_on(light):\n",
    "    global lights\n",
    "    # or always turns on\n",
    "    lights |= light_place(light)\n",
    "\n",
    "def light_off(light):\n",
    "    global lights\n",
    "    # anding with mask (uses not) turns off\n",
    "    lights &= ~light_place(light)\n",
    "\n",
    "## conditionals ##\n",
    "\n",
    "def is_light_on(light):\n",
    "    global lights\n",
    "    return lights & light_place(light) == lights\n",
    "\n",
    "\n",
    "def is_light_off(light):\n",
    "    global lights\n",
    "    return not is_light_on(light)\n",
    "\n",
    "print_lights()\n",
    "\n",
    "light_toggle(2)\n",
    "print_lights()\n",
    "\n",
    "light_on(7)\n",
    "print_lights()\n",
    "\n",
    "light_off(2)\n",
    "print_lights()\n",
    "\n",
    "print(is_light_on(7))\n",
    "print(is_light_on(2))"
   ]
  },
  {
   "cell_type": "markdown",
   "metadata": {},
   "source": [
    "# 3.7"
   ]
  },
  {
   "cell_type": "code",
   "execution_count": 22,
   "metadata": {},
   "outputs": [
    {
     "name": "stdout",
     "output_type": "stream",
     "text": [
      "that's tough safin you didn't make it!\n"
     ]
    }
   ],
   "source": [
    "# nested conditionals\n",
    "\n",
    "forehand = 90\n",
    "backhand = 50\n",
    "serve = 75\n",
    "name = input(\"what's ur name? \")\n",
    "\n",
    "makes_team = True\n",
    "if forehand < 70:\n",
    "    if backhand > 80:\n",
    "        if serve < 85:\n",
    "            makes_team = False\n",
    "    else:\n",
    "        makes_team = False\n",
    "else:\n",
    "    if backhand < 85:\n",
    "        makes_team = False\n",
    "    elif serve < 70:\n",
    "        makes_team = False\n",
    "\n",
    "if makes_team:\n",
    "    print(\"congrats\", name, \"you made it!\")\n",
    "else:\n",
    "    print(\"that's tough\", name, \"you didn't make it!\")"
   ]
  },
  {
   "cell_type": "markdown",
   "metadata": {},
   "source": [
    "![](https://i.ibb.co/phtrgPF/download.png)"
   ]
  },
  {
   "cell_type": "code",
   "execution_count": 23,
   "metadata": {},
   "outputs": [
    {
     "name": "stdout",
     "output_type": "stream",
     "text": [
      "give up it's not worth it\n"
     ]
    }
   ],
   "source": [
    "motivation = 10\n",
    "teacher = \"Mortensen\"\n",
    "code_quality = 90\n",
    "\n",
    "give_up = False\n",
    "if teacher == \"Mortensen\":\n",
    "    give_up = True\n",
    "else:\n",
    "    if motivation > 60:\n",
    "        give_up = False\n",
    "    else:\n",
    "        if code_quality < 80:\n",
    "            give_up = True\n",
    "\n",
    "if give_up:\n",
    "    print(\"give up it's not worth it\")"
   ]
  },
  {
   "cell_type": "markdown",
   "metadata": {},
   "source": [
    "![](https://i.ibb.co/F8Hz6tH/downlaod2.png)"
   ]
  },
  {
   "cell_type": "code",
   "execution_count": null,
   "metadata": {},
   "outputs": [],
   "source": [
    "number = 2\n",
    "guess = int(input(\"guess my number! \"))\n",
    "\n",
    "if guess < number:\n",
    "    print(\"too low\")\n",
    "else:\n",
    "    if guess == number:\n",
    "        print(\"just right\")\n",
    "    else:\n",
    "        print(\"wayy too big\")"
   ]
  },
  {
   "cell_type": "markdown",
   "metadata": {},
   "source": [
    "![](https://i.ibb.co/V9MNbHX/flow3.png)"
   ]
  },
  {
   "cell_type": "code",
   "execution_count": 24,
   "metadata": {},
   "outputs": [
    {
     "name": "stdout",
     "output_type": "stream",
     "text": [
      "nice iphone\n",
      "nice macbook\n",
      "nice airpods\n",
      "you have 3 apple devices\n"
     ]
    }
   ],
   "source": [
    "# 4 branches instead of 3 (?)\n",
    "phone = \"iphone\"\n",
    "laptop = \"macbook\"\n",
    "headphones = \"airpods\"\n",
    "\n",
    "if phone == \"iphone\":\n",
    "    print(\"nice iphone\")\n",
    "    if laptop == \"macbook\":\n",
    "        print(\"nice macbook\")\n",
    "        if headphones == \"airpods\":\n",
    "            print(\"nice airpods\")\n",
    "            print(\"you have 3 apple devices\")\n",
    "        else:\n",
    "            print(\"you only have 2 apple devices\")\n",
    "    else:\n",
    "        if headphones == \"airpods\":\n",
    "            print(\"nice airpods\")\n",
    "            print(\"you have 2 apple devices\")\n",
    "        else:\n",
    "            print(\"you only have 1 apple device\")\n",
    "else:\n",
    "    print(\"you should get an iphone\")"
   ]
  }
 ],
 "metadata": {
  "kernelspec": {
   "display_name": "Python 3.9.12 ('base')",
   "language": "python",
   "name": "python3"
  },
  "language_info": {
   "codemirror_mode": {
    "name": "ipython",
    "version": 3
   },
   "file_extension": ".py",
   "mimetype": "text/x-python",
   "name": "python",
   "nbconvert_exporter": "python",
   "pygments_lexer": "ipython3",
   "version": "3.9.12"
  },
  "orig_nbformat": 4,
  "vscode": {
   "interpreter": {
    "hash": "1448b48b023bcc9c3d4a79e814720a10ca6d4244f75e0f7ce4af58f96ba2b7d3"
   }
  }
 },
 "nbformat": 4,
 "nbformat_minor": 2
}

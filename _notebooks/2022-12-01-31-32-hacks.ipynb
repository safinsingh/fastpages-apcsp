{
 "cells": [
  {
   "cell_type": "markdown",
   "metadata": {},
   "source": [
    "# Unit 3.1/3.2 Hacks\n",
    "\n",
    "- toc: true\n",
    "- badges: true\n",
    "- comments: true\n",
    "- categories: [jupyter]"
   ]
  },
  {
   "cell_type": "markdown",
   "metadata": {},
   "source": [
    "# 3.1.1"
   ]
  },
  {
   "cell_type": "code",
   "execution_count": 1,
   "metadata": {},
   "outputs": [
    {
     "name": "stdout",
     "output_type": "stream",
     "text": [
      "alex 16 {'stupid': True}\n"
     ]
    }
   ],
   "source": [
    "name = \"alex\"\n",
    "age = 16\n",
    "traits = {\n",
    "    \"stupid\": True\n",
    "}\n",
    "\n",
    "print(name, age, traits)"
   ]
  },
  {
   "cell_type": "markdown",
   "metadata": {},
   "source": [
    "# 3.1.2\n",
    "\n",
    "Assignment operator: assigns a value to a variable\n",
    "Collegeboard pseudocode assigment operator: `<-`\n",
    "X value: if the value of the `x` variable is changed, the `print` builtin would display the new value of `x`\n",
    "Multiple ways to define a variable in JS:\n",
    "```js\n",
    "// works but dont do this, pollutes global scope\n",
    "a = 1\n",
    "var a = 1\n",
    "\n",
    "// reccomended\n",
    "let a = 1\n",
    "// prevents reassignment\n",
    "const a = 1\n",
    "```"
   ]
  },
  {
   "cell_type": "markdown",
   "metadata": {},
   "source": [
    "# 3.2.1"
   ]
  },
  {
   "cell_type": "markdown",
   "metadata": {},
   "source": [
    "List: a collection of data values stored sequentially\n",
    "Element: a single data value within a list\n",
    "Reference elements in a list/string: using an index like so--`data[0]`\n",
    "Example of a string: `\"hello world!\"`"
   ]
  },
  {
   "cell_type": "code",
   "execution_count": 2,
   "metadata": {},
   "outputs": [
    {
     "name": "stdout",
     "output_type": "stream",
     "text": [
      "donuts\n",
      "sushi\n",
      "donuts\n"
     ]
    }
   ],
   "source": [
    "# favorite foods array/access\n",
    "foods = [\"ramen\", \"pasta\", \"sushi\", \"donuts\"]\n",
    "# index 3\n",
    "print(foods[3])\n",
    "# position 3\n",
    "print(foods[2])\n",
    "# negative index (last position)\n",
    "print(foods[-1])"
   ]
  },
  {
   "cell_type": "markdown",
   "metadata": {},
   "source": [
    "# 3.2.2"
   ]
  },
  {
   "cell_type": "code",
   "execution_count": 3,
   "metadata": {},
   "outputs": [
    {
     "name": "stdout",
     "output_type": "stream",
     "text": [
      "Original numbers: [100, 200, 300]\n",
      "Adding: 25\n",
      "New numbers: [125, 225, 325]\n"
     ]
    }
   ],
   "source": [
    "num1=input(\"Input a number. \")\n",
    "num2=input(\"Input a number. \")\n",
    "num3=input(\"Input a number. \")\n",
    "add=input(\"How much would you like to add? \")\n",
    "\n",
    "# Add code in the space below\n",
    "numlist = [int(n) for n in [num1, num2, num3]]\n",
    "print(\"Original numbers:\",numlist)\n",
    "print(\"Adding:\",add)\n",
    "\n",
    "\n",
    "\n",
    "# The following is the code that adds the inputted addend to the other numbers. It is hidden from the user.\n",
    "for i in range(len(numlist)):\n",
    "    numlist[i-1] += int(add)\n",
    "\n",
    "print(\"New numbers:\",numlist)"
   ]
  },
  {
   "cell_type": "markdown",
   "metadata": {},
   "source": [
    "# 3.2.3\n",
    "\n",
    "Python quiz:\n",
    "![]({{ site.baseurl }}/images/pyquizscore.png)\n",
    "Simplify list:\n",
    "![]({{ site.baseurl }}/images/simplifylist.png)\n",
    "\n",
    "Why are lists better for code? They are more concise and allow you to change entries in a specific location rather than changing individual lines by hand.\n",
    "Long way:\n",
    "```python\n",
    "one = 1\n",
    "two = 2\n",
    "three = 3\n",
    "four = 4\n",
    "\n",
    "print(one + two)\n",
    "print(two + three)\n",
    "print(three + four)\n",
    "```\n",
    "Short way:\n",
    "```python\n",
    "nums = [1, 2, 3, 4]\n",
    "for i in range(len(nums)-1):\n",
    "    print(nums[i]+nums[i+1])\n",
    "```"
   ]
  }
 ],
 "metadata": {
  "kernelspec": {
   "display_name": "Python 3.9.12 ('base')",
   "language": "python",
   "name": "python3"
  },
  "language_info": {
   "codemirror_mode": {
    "name": "ipython",
    "version": 3
   },
   "file_extension": ".py",
   "mimetype": "text/x-python",
   "name": "python",
   "nbconvert_exporter": "python",
   "pygments_lexer": "ipython3",
   "version": "3.9.12"
  },
  "orig_nbformat": 4,
  "vscode": {
   "interpreter": {
    "hash": "1448b48b023bcc9c3d4a79e814720a10ca6d4244f75e0f7ce4af58f96ba2b7d3"
   }
  }
 },
 "nbformat": 4,
 "nbformat_minor": 2
}

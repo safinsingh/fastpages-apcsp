{
 "cells": [
  {
   "attachments": {},
   "cell_type": "markdown",
   "metadata": {},
   "source": [
    "# Unit 3.14/3.15 Hacks\n",
    "\n",
    "- toc: true\n",
    "- badges: true\n",
    "- comments: true\n",
    "- categories: [jupyter]"
   ]
  },
  {
   "attachments": {},
   "cell_type": "markdown",
   "metadata": {},
   "source": [
    "# 3.14.1"
   ]
  },
  {
   "cell_type": "code",
   "execution_count": 6,
   "metadata": {},
   "outputs": [
    {
     "name": "stdout",
     "output_type": "stream",
     "text": [
      "0.8660254037844386\n",
      "sqrt(3)/2=0.8660254037844386\n"
     ]
    }
   ],
   "source": [
    "# using the math module to implement the law of cosines\n",
    "\n",
    "import math\n",
    "\n",
    "def law_of_cosines(a, b, C):\n",
    "    C_radians = math.radians(C)\n",
    "    cos_C = math.cos(C_radians)\n",
    "    c = math.sqrt(a**2 + b**2 - 2 * a * b * cos_C)\n",
    "  \n",
    "    return c\n",
    "\n",
    "print(law_of_cosines(1, 1 / 2, 60))\n",
    "print(\"sqrt(3)/2=\" + str(math.sqrt(3) / 2))"
   ]
  },
  {
   "attachments": {},
   "cell_type": "markdown",
   "metadata": {},
   "source": [
    "The above code imports the python `math` module and uses the `radians`, `cos`, and `sqrt` functions to determine the side length of the third unknown side of a triangle given the two other sides and the angle between them. First, the angle is converted from degrees to radians using `math.radians`. Then, the cosine of C is calculated using `math.cos`. Finally, the third side is calculated using the law of cosines and the `math.sqrt` function."
   ]
  },
  {
   "attachments": {},
   "cell_type": "markdown",
   "metadata": {},
   "source": [
    "# 3.15.1"
   ]
  },
  {
   "cell_type": "code",
   "execution_count": 7,
   "metadata": {},
   "outputs": [
    {
     "name": "stdout",
     "output_type": "stream",
     "text": [
      "Your inspirational quote of the day is:\n",
      " \"Whatever you do in life, do it with enthusiasm\" -- Anonymous\n"
     ]
    }
   ],
   "source": [
    "# code using an `import` statement: consuming a REST API\n",
    "\n",
    "import requests\n",
    "\n",
    "# api endpoint\n",
    "url = \"https://pquotes.p.rapidapi.com/api/quote\"\n",
    "\n",
    "# specify topic\n",
    "payload = {\"topic\": \"motivation\"}\n",
    "# rapidapi headers (key, host, and body type)\n",
    "headers = {\n",
    "\t\"content-type\": \"application/json\",\n",
    "\t\"X-RapidAPI-Key\": \"c4fb753596mshe0fd8cf8607e256p1eb9ebjsn7c61a5142004\",\n",
    "\t\"X-RapidAPI-Host\": \"pquotes.p.rapidapi.com\"\n",
    "}\n",
    "\n",
    "# send post request to API with body and headers; convert response from json to obj\n",
    "response = requests.post(url, json=payload, headers=headers).json()\n",
    "# get text and author from response\n",
    "text = response[\"quote\"]\n",
    "author = response[\"by\"]\n",
    "\n",
    "# print quote using python format string\n",
    "print(f\"Your inspirational quote of the day is:\\n \\\"{text}\\\" -- {author}\")"
   ]
  },
  {
   "cell_type": "code",
   "execution_count": null,
   "metadata": {},
   "outputs": [],
   "source": [
    "# hosting an HTTP server backed by Flask\n",
    "\n",
    "from flask import Flask, request\n",
    "import random\n",
    "\n",
    "# create flask app\n",
    "app = Flask(__name__)\n",
    "\n",
    "# initialize array with quotes\n",
    "quotes = [\n",
    "    \"GOD DID - DJ Khaled\",\n",
    "    \"What do I do now - Alex Kumar\",\n",
    "    \"You are your only limit - Kalani Cabral-Omana\",\n",
    "    \"You give a man food, he's given lunch for the day. If you teach a man, then you like, can eat... I forgot what it was - Navan Yatavelli\"\n",
    "]\n",
    "\n",
    "\n",
    "# function for retrieving random quote\n",
    "def random_quote():\n",
    "    return random.choice(quotes)\n",
    "\n",
    "\n",
    "# GET endpoint on /get returns a quote\n",
    "@app.route('/get', methods=['GET'])\n",
    "def get():\n",
    "    return {\n",
    "        \"status\": \"success\",\n",
    "        \"data\": {\n",
    "            \"quote\": random_quote()\n",
    "        }\n",
    "    }\n",
    "\n",
    "\n",
    "# POST endpoint on /post returns a message based on req body\n",
    "@app.route('/post', methods=['POST'])\n",
    "def post():\n",
    "    data = request.json\n",
    "    name = data[\"name\"]\n",
    "    return {\n",
    "        \"status\": \"success\",\n",
    "        \"data\": {\n",
    "            \"message\": \"Hello, \" + name\n",
    "        }\n",
    "    }"
   ]
  },
  {
   "attachments": {},
   "cell_type": "markdown",
   "metadata": {},
   "source": [
    "`import random`: importing Python's builtin `random` library gives you access to a variety of functions that involve pseudorandom number generators with seeds such as the current precise time. Some of its most common functions include `random()`, `random(a, b)`, `uniform(a, b)`, `choice(arr)`, `shuffle(arr)`, `sample(arr, a)`, and `gauss(mu, sigma)`.\n",
    "\n",
    "Popular Python libraries:\n",
    " - `requests`\n",
    " - `Flask`\n",
    " - `numpy`\n",
    " - `pandas`\n",
    " - `matplotlib`\n",
    " - `seaborn`\n",
    " - `scikit-learn`\n",
    " - `tensorflow`\n",
    " - `keras`\n",
    " - `PyQt5`\n",
    " - `opencv-python`\n",
    " - `beautifulsoup4`\n",
    " - `pygame`\n",
    " - `lxml`\n",
    " - `sympy`\n",
    " - `Pillow`\n",
    " - `scipy`\n",
    " - `PyYAML`\n",
    " - `nltk`\n",
    " - `networkx`\n",
    " - `sqlalchemy`\n",
    " - `pyglet`\n",
    " - `paramiko`\n",
    " - `pytz`"
   ]
  },
  {
   "attachments": {},
   "cell_type": "markdown",
   "metadata": {},
   "source": [
    "# 3.15.2"
   ]
  },
  {
   "cell_type": "code",
   "execution_count": 9,
   "metadata": {},
   "outputs": [
    {
     "name": "stdout",
     "output_type": "stream",
     "text": [
      "green\n"
     ]
    }
   ],
   "source": [
    "# spinner simulation\n",
    "\n",
    "import random\n",
    "\n",
    "isPlaying = True\n",
    "while isPlaying:\n",
    "    n = random.randint(1, 8)\n",
    "    if n in range(1, 3):\n",
    "        print(\"green\")\n",
    "    elif n in range(4, 5):\n",
    "        print(\"blue\")\n",
    "    elif n == 6:\n",
    "        print(\"purple\")\n",
    "    elif n == 7:\n",
    "        print(\"red\")\n",
    "    elif n == 8:\n",
    "        print(\"orange\")\n",
    "    \n",
    "    if input(\"keep playing? [y/N]\") != \"y\":\n",
    "        isPlaying = False"
   ]
  },
  {
   "attachments": {},
   "cell_type": "markdown",
   "metadata": {},
   "source": [
    "`random.randrange(12, 20)` can output any number from 12 through 20, inclusive. All calls to this function will output numbers between the first parameter and second parameter, inclusive."
   ]
  }
 ],
 "metadata": {
  "kernelspec": {
   "display_name": "base",
   "language": "python",
   "name": "python3"
  },
  "language_info": {
   "codemirror_mode": {
    "name": "ipython",
    "version": 3
   },
   "file_extension": ".py",
   "mimetype": "text/x-python",
   "name": "python",
   "nbconvert_exporter": "python",
   "pygments_lexer": "ipython3",
   "version": "3.9.12"
  },
  "orig_nbformat": 4,
  "vscode": {
   "interpreter": {
    "hash": "1448b48b023bcc9c3d4a79e814720a10ca6d4244f75e0f7ce4af58f96ba2b7d3"
   }
  }
 },
 "nbformat": 4,
 "nbformat_minor": 2
}
